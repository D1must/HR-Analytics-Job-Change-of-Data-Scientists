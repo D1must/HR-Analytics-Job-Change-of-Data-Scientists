{
 "cells": [
  {
   "cell_type": "code",
   "execution_count": 6,
   "metadata": {
    "execution": {
     "iopub.execute_input": "2021-09-16T13:05:25.866861Z",
     "iopub.status.busy": "2021-09-16T13:05:25.864657Z",
     "iopub.status.idle": "2021-09-16T13:05:29.836988Z",
     "shell.execute_reply": "2021-09-16T13:05:29.835808Z",
     "shell.execute_reply.started": "2021-09-16T12:56:53.989783Z"
    },
    "papermill": {
     "duration": 4.060548,
     "end_time": "2021-09-16T13:05:29.837175",
     "exception": false,
     "start_time": "2021-09-16T13:05:25.776627",
     "status": "completed"
    },
    "tags": []
   },
   "outputs": [],
   "source": [
    "import matplotlib.pyplot as plt\n",
    "%matplotlib inline\n",
    "import numpy as np\n",
    "import pandas as pd\n",
    "import seaborn as sns\n",
    "import pylab as pl\n",
    "\n",
    "\n",
    "import sklearn\n",
    "from sklearn.linear_model import LogisticRegression\n",
    "from sklearn.ensemble import RandomForestClassifier, VotingClassifier \n",
    "from sklearn.model_selection import train_test_split, StratifiedShuffleSplit, GridSearchCV, validation_curve, cross_val_score\n",
    "from sklearn.metrics import recall_score, precision_score, f1_score, roc_auc_score, roc_curve, accuracy_score, confusion_matrix, log_loss, plot_roc_curve, auc, precision_recall_curve, classification_report\n",
    "from sklearn.utils import shuffle\n",
    "from sklearn.svm import SVC\n",
    "#from imblearn.over_sampling import RandomOverSampler\n",
    "from sklearn.utils.class_weight import compute_sample_weight\n",
    "#from eli5.sklearn import PermutationImportance\n",
    "#import eli5\n",
    "#from lightgbm import LGBMClassifier\n",
    "#from catboost import CatBoostClassifier\n",
    "import pickle\n",
    "import warnings\n",
    "import numpy as np\n",
    "from sklearn import linear_model, metrics, pipeline, preprocessing\n",
    "from sklearn.impute import KNNImputer\n",
    "\n",
    "warnings.filterwarnings(\"ignore\")"
   ]
  },
  {
   "cell_type": "code",
   "execution_count": null,
   "metadata": {},
   "outputs": [],
   "source": [
    "pip install catboost"
   ]
  },
  {
   "cell_type": "code",
   "execution_count": null,
   "metadata": {
    "execution": {
     "iopub.execute_input": "2021-09-16T13:05:29.987463Z",
     "iopub.status.busy": "2021-09-16T13:05:29.986192Z",
     "iopub.status.idle": "2021-09-16T13:05:29.991589Z",
     "shell.execute_reply": "2021-09-16T13:05:29.992128Z",
     "shell.execute_reply.started": "2021-09-16T12:56:57.098140Z"
    },
    "papermill": {
     "duration": 0.081968,
     "end_time": "2021-09-16T13:05:29.992318",
     "exception": false,
     "start_time": "2021-09-16T13:05:29.910350",
     "status": "completed"
    },
    "tags": []
   },
   "outputs": [],
   "source": [
    "# Input data files are available in the \"../input/\" directory.\n",
    "# For example, running this (by clicking run or pressing Shift+Enter) will list the files in the input directory\n",
    "import os\n",
    "print(os.listdir(\"../input\"))\n",
    "\n",
    "# Any results you write to the current directory are saved as output."
   ]
  },
  {
   "cell_type": "markdown",
   "metadata": {
    "papermill": {
     "duration": 0.07164,
     "end_time": "2021-09-16T13:05:30.138063",
     "exception": false,
     "start_time": "2021-09-16T13:05:30.066423",
     "status": "completed"
    },
    "tags": []
   },
   "source": [
    "## Features\n",
    "\n",
    "* enrollee_id : Unique ID for enrollee\n",
    "* city: City code\n",
    "* citydevelopmentindex: Developement index of the city (scaled)\n",
    "* gender: Gender of enrolee\n",
    "* relevent_experience: Relevent experience of enrolee\n",
    "* enrolled_university: Type of University course enrolled if any\n",
    "* education_level: Education level of enrolee\n",
    "* major_discipline :Education major discipline of enrolee\n",
    "* experience: Enrolee total experience in years\n",
    "* company_size: No of employees in current employer's company\n",
    "* company_type : Type of current employer\n",
    "* lastnewjob: Difference in years between previous job and current job\n",
    "* training_hours: training hours completed\n",
    "* target: 0 – Not looking for job change, 1 – Looking for a job change\n",
    "\n"
   ]
  },
  {
   "cell_type": "markdown",
   "metadata": {
    "papermill": {
     "duration": 0.072581,
     "end_time": "2021-09-16T13:05:30.282110",
     "exception": false,
     "start_time": "2021-09-16T13:05:30.209529",
     "status": "completed"
    },
    "tags": []
   },
   "source": [
    "# Training Data"
   ]
  },
  {
   "cell_type": "code",
   "execution_count": 3,
   "metadata": {
    "execution": {
     "iopub.execute_input": "2021-09-16T13:05:30.434476Z",
     "iopub.status.busy": "2021-09-16T13:05:30.433444Z",
     "iopub.status.idle": "2021-09-16T13:05:30.533235Z",
     "shell.execute_reply": "2021-09-16T13:05:30.533798Z",
     "shell.execute_reply.started": "2021-09-16T12:56:57.105036Z"
    },
    "papermill": {
     "duration": 0.179142,
     "end_time": "2021-09-16T13:05:30.533995",
     "exception": false,
     "start_time": "2021-09-16T13:05:30.354853",
     "status": "completed"
    },
    "tags": []
   },
   "outputs": [],
   "source": [
    "raw_train = pd.read_csv('../input/hr-analytics-job-change-of-data-scientists/aug_train.csv')\n",
    "raw_test = pd.read_csv('../input/hr-analytics-job-change-of-data-scientists/aug_test.csv')\n",
    "# sub = pd.read_csv('../input/hr-analytics-job-change-of-data-scientists/sample_submission.csv')"
   ]
  },
  {
   "cell_type": "code",
   "execution_count": 4,
   "metadata": {
    "execution": {
     "iopub.execute_input": "2021-09-16T13:05:30.687660Z",
     "iopub.status.busy": "2021-09-16T13:05:30.686628Z",
     "iopub.status.idle": "2021-09-16T13:05:30.711274Z",
     "shell.execute_reply": "2021-09-16T13:05:30.711763Z",
     "shell.execute_reply.started": "2021-09-16T12:56:57.217494Z"
    },
    "papermill": {
     "duration": 0.100439,
     "end_time": "2021-09-16T13:05:30.711973",
     "exception": false,
     "start_time": "2021-09-16T13:05:30.611534",
     "status": "completed"
    },
    "tags": []
   },
   "outputs": [
    {
     "data": {
      "text/html": [
       "<div>\n",
       "<style scoped>\n",
       "    .dataframe tbody tr th:only-of-type {\n",
       "        vertical-align: middle;\n",
       "    }\n",
       "\n",
       "    .dataframe tbody tr th {\n",
       "        vertical-align: top;\n",
       "    }\n",
       "\n",
       "    .dataframe thead th {\n",
       "        text-align: right;\n",
       "    }\n",
       "</style>\n",
       "<table border=\"1\" class=\"dataframe\">\n",
       "  <thead>\n",
       "    <tr style=\"text-align: right;\">\n",
       "      <th></th>\n",
       "      <th>enrollee_id</th>\n",
       "      <th>city</th>\n",
       "      <th>city_development_index</th>\n",
       "      <th>gender</th>\n",
       "      <th>relevent_experience</th>\n",
       "      <th>enrolled_university</th>\n",
       "      <th>education_level</th>\n",
       "      <th>major_discipline</th>\n",
       "      <th>experience</th>\n",
       "      <th>company_size</th>\n",
       "      <th>company_type</th>\n",
       "      <th>last_new_job</th>\n",
       "      <th>training_hours</th>\n",
       "      <th>target</th>\n",
       "    </tr>\n",
       "  </thead>\n",
       "  <tbody>\n",
       "    <tr>\n",
       "      <th>0</th>\n",
       "      <td>8949</td>\n",
       "      <td>city_103</td>\n",
       "      <td>0.920</td>\n",
       "      <td>Male</td>\n",
       "      <td>Has relevent experience</td>\n",
       "      <td>no_enrollment</td>\n",
       "      <td>Graduate</td>\n",
       "      <td>STEM</td>\n",
       "      <td>&gt;20</td>\n",
       "      <td>NaN</td>\n",
       "      <td>NaN</td>\n",
       "      <td>1</td>\n",
       "      <td>36</td>\n",
       "      <td>1.0</td>\n",
       "    </tr>\n",
       "    <tr>\n",
       "      <th>1</th>\n",
       "      <td>29725</td>\n",
       "      <td>city_40</td>\n",
       "      <td>0.776</td>\n",
       "      <td>Male</td>\n",
       "      <td>No relevent experience</td>\n",
       "      <td>no_enrollment</td>\n",
       "      <td>Graduate</td>\n",
       "      <td>STEM</td>\n",
       "      <td>15</td>\n",
       "      <td>50-99</td>\n",
       "      <td>Pvt Ltd</td>\n",
       "      <td>&gt;4</td>\n",
       "      <td>47</td>\n",
       "      <td>0.0</td>\n",
       "    </tr>\n",
       "    <tr>\n",
       "      <th>2</th>\n",
       "      <td>11561</td>\n",
       "      <td>city_21</td>\n",
       "      <td>0.624</td>\n",
       "      <td>NaN</td>\n",
       "      <td>No relevent experience</td>\n",
       "      <td>Full time course</td>\n",
       "      <td>Graduate</td>\n",
       "      <td>STEM</td>\n",
       "      <td>5</td>\n",
       "      <td>NaN</td>\n",
       "      <td>NaN</td>\n",
       "      <td>never</td>\n",
       "      <td>83</td>\n",
       "      <td>0.0</td>\n",
       "    </tr>\n",
       "    <tr>\n",
       "      <th>3</th>\n",
       "      <td>33241</td>\n",
       "      <td>city_115</td>\n",
       "      <td>0.789</td>\n",
       "      <td>NaN</td>\n",
       "      <td>No relevent experience</td>\n",
       "      <td>NaN</td>\n",
       "      <td>Graduate</td>\n",
       "      <td>Business Degree</td>\n",
       "      <td>&lt;1</td>\n",
       "      <td>NaN</td>\n",
       "      <td>Pvt Ltd</td>\n",
       "      <td>never</td>\n",
       "      <td>52</td>\n",
       "      <td>1.0</td>\n",
       "    </tr>\n",
       "    <tr>\n",
       "      <th>4</th>\n",
       "      <td>666</td>\n",
       "      <td>city_162</td>\n",
       "      <td>0.767</td>\n",
       "      <td>Male</td>\n",
       "      <td>Has relevent experience</td>\n",
       "      <td>no_enrollment</td>\n",
       "      <td>Masters</td>\n",
       "      <td>STEM</td>\n",
       "      <td>&gt;20</td>\n",
       "      <td>50-99</td>\n",
       "      <td>Funded Startup</td>\n",
       "      <td>4</td>\n",
       "      <td>8</td>\n",
       "      <td>0.0</td>\n",
       "    </tr>\n",
       "  </tbody>\n",
       "</table>\n",
       "</div>"
      ],
      "text/plain": [
       "   enrollee_id      city  city_development_index gender  \\\n",
       "0         8949  city_103                   0.920   Male   \n",
       "1        29725   city_40                   0.776   Male   \n",
       "2        11561   city_21                   0.624    NaN   \n",
       "3        33241  city_115                   0.789    NaN   \n",
       "4          666  city_162                   0.767   Male   \n",
       "\n",
       "       relevent_experience enrolled_university education_level  \\\n",
       "0  Has relevent experience       no_enrollment        Graduate   \n",
       "1   No relevent experience       no_enrollment        Graduate   \n",
       "2   No relevent experience    Full time course        Graduate   \n",
       "3   No relevent experience                 NaN        Graduate   \n",
       "4  Has relevent experience       no_enrollment         Masters   \n",
       "\n",
       "  major_discipline experience company_size    company_type last_new_job  \\\n",
       "0             STEM        >20          NaN             NaN            1   \n",
       "1             STEM         15        50-99         Pvt Ltd           >4   \n",
       "2             STEM          5          NaN             NaN        never   \n",
       "3  Business Degree         <1          NaN         Pvt Ltd        never   \n",
       "4             STEM        >20        50-99  Funded Startup            4   \n",
       "\n",
       "   training_hours  target  \n",
       "0              36     1.0  \n",
       "1              47     0.0  \n",
       "2              83     0.0  \n",
       "3              52     1.0  \n",
       "4               8     0.0  "
      ]
     },
     "execution_count": 4,
     "metadata": {},
     "output_type": "execute_result"
    }
   ],
   "source": [
    "raw_train.head()"
   ]
  },
  {
   "cell_type": "code",
   "execution_count": 5,
   "metadata": {
    "execution": {
     "iopub.execute_input": "2021-09-16T13:05:30.861656Z",
     "iopub.status.busy": "2021-09-16T13:05:30.860676Z",
     "iopub.status.idle": "2021-09-16T13:05:30.877836Z",
     "shell.execute_reply": "2021-09-16T13:05:30.877310Z",
     "shell.execute_reply.started": "2021-09-16T12:56:57.248143Z"
    },
    "papermill": {
     "duration": 0.093279,
     "end_time": "2021-09-16T13:05:30.877982",
     "exception": false,
     "start_time": "2021-09-16T13:05:30.784703",
     "status": "completed"
    },
    "tags": []
   },
   "outputs": [
    {
     "data": {
      "text/html": [
       "<div>\n",
       "<style scoped>\n",
       "    .dataframe tbody tr th:only-of-type {\n",
       "        vertical-align: middle;\n",
       "    }\n",
       "\n",
       "    .dataframe tbody tr th {\n",
       "        vertical-align: top;\n",
       "    }\n",
       "\n",
       "    .dataframe thead th {\n",
       "        text-align: right;\n",
       "    }\n",
       "</style>\n",
       "<table border=\"1\" class=\"dataframe\">\n",
       "  <thead>\n",
       "    <tr style=\"text-align: right;\">\n",
       "      <th></th>\n",
       "      <th>enrollee_id</th>\n",
       "      <th>city</th>\n",
       "      <th>city_development_index</th>\n",
       "      <th>gender</th>\n",
       "      <th>relevent_experience</th>\n",
       "      <th>enrolled_university</th>\n",
       "      <th>education_level</th>\n",
       "      <th>major_discipline</th>\n",
       "      <th>experience</th>\n",
       "      <th>company_size</th>\n",
       "      <th>company_type</th>\n",
       "      <th>last_new_job</th>\n",
       "      <th>training_hours</th>\n",
       "    </tr>\n",
       "  </thead>\n",
       "  <tbody>\n",
       "    <tr>\n",
       "      <th>0</th>\n",
       "      <td>32403</td>\n",
       "      <td>city_41</td>\n",
       "      <td>0.827</td>\n",
       "      <td>Male</td>\n",
       "      <td>Has relevent experience</td>\n",
       "      <td>Full time course</td>\n",
       "      <td>Graduate</td>\n",
       "      <td>STEM</td>\n",
       "      <td>9</td>\n",
       "      <td>&lt;10</td>\n",
       "      <td>NaN</td>\n",
       "      <td>1</td>\n",
       "      <td>21</td>\n",
       "    </tr>\n",
       "    <tr>\n",
       "      <th>1</th>\n",
       "      <td>9858</td>\n",
       "      <td>city_103</td>\n",
       "      <td>0.920</td>\n",
       "      <td>Female</td>\n",
       "      <td>Has relevent experience</td>\n",
       "      <td>no_enrollment</td>\n",
       "      <td>Graduate</td>\n",
       "      <td>STEM</td>\n",
       "      <td>5</td>\n",
       "      <td>NaN</td>\n",
       "      <td>Pvt Ltd</td>\n",
       "      <td>1</td>\n",
       "      <td>98</td>\n",
       "    </tr>\n",
       "    <tr>\n",
       "      <th>2</th>\n",
       "      <td>31806</td>\n",
       "      <td>city_21</td>\n",
       "      <td>0.624</td>\n",
       "      <td>Male</td>\n",
       "      <td>No relevent experience</td>\n",
       "      <td>no_enrollment</td>\n",
       "      <td>High School</td>\n",
       "      <td>NaN</td>\n",
       "      <td>&lt;1</td>\n",
       "      <td>NaN</td>\n",
       "      <td>Pvt Ltd</td>\n",
       "      <td>never</td>\n",
       "      <td>15</td>\n",
       "    </tr>\n",
       "    <tr>\n",
       "      <th>3</th>\n",
       "      <td>27385</td>\n",
       "      <td>city_13</td>\n",
       "      <td>0.827</td>\n",
       "      <td>Male</td>\n",
       "      <td>Has relevent experience</td>\n",
       "      <td>no_enrollment</td>\n",
       "      <td>Masters</td>\n",
       "      <td>STEM</td>\n",
       "      <td>11</td>\n",
       "      <td>10/49</td>\n",
       "      <td>Pvt Ltd</td>\n",
       "      <td>1</td>\n",
       "      <td>39</td>\n",
       "    </tr>\n",
       "    <tr>\n",
       "      <th>4</th>\n",
       "      <td>27724</td>\n",
       "      <td>city_103</td>\n",
       "      <td>0.920</td>\n",
       "      <td>Male</td>\n",
       "      <td>Has relevent experience</td>\n",
       "      <td>no_enrollment</td>\n",
       "      <td>Graduate</td>\n",
       "      <td>STEM</td>\n",
       "      <td>&gt;20</td>\n",
       "      <td>10000+</td>\n",
       "      <td>Pvt Ltd</td>\n",
       "      <td>&gt;4</td>\n",
       "      <td>72</td>\n",
       "    </tr>\n",
       "  </tbody>\n",
       "</table>\n",
       "</div>"
      ],
      "text/plain": [
       "   enrollee_id      city  city_development_index  gender  \\\n",
       "0        32403   city_41                   0.827    Male   \n",
       "1         9858  city_103                   0.920  Female   \n",
       "2        31806   city_21                   0.624    Male   \n",
       "3        27385   city_13                   0.827    Male   \n",
       "4        27724  city_103                   0.920    Male   \n",
       "\n",
       "       relevent_experience enrolled_university education_level  \\\n",
       "0  Has relevent experience    Full time course        Graduate   \n",
       "1  Has relevent experience       no_enrollment        Graduate   \n",
       "2   No relevent experience       no_enrollment     High School   \n",
       "3  Has relevent experience       no_enrollment         Masters   \n",
       "4  Has relevent experience       no_enrollment        Graduate   \n",
       "\n",
       "  major_discipline experience company_size company_type last_new_job  \\\n",
       "0             STEM          9          <10          NaN            1   \n",
       "1             STEM          5          NaN      Pvt Ltd            1   \n",
       "2              NaN         <1          NaN      Pvt Ltd        never   \n",
       "3             STEM         11        10/49      Pvt Ltd            1   \n",
       "4             STEM        >20       10000+      Pvt Ltd           >4   \n",
       "\n",
       "   training_hours  \n",
       "0              21  \n",
       "1              98  \n",
       "2              15  \n",
       "3              39  \n",
       "4              72  "
      ]
     },
     "execution_count": 5,
     "metadata": {},
     "output_type": "execute_result"
    }
   ],
   "source": [
    "raw_test.head()"
   ]
  },
  {
   "cell_type": "markdown",
   "metadata": {
    "papermill": {
     "duration": 0.077776,
     "end_time": "2021-09-16T13:05:31.029753",
     "exception": false,
     "start_time": "2021-09-16T13:05:30.951977",
     "status": "completed"
    },
    "tags": []
   },
   "source": [
    "Let's check maches of ID in train and test data."
   ]
  },
  {
   "cell_type": "code",
   "execution_count": 6,
   "metadata": {
    "execution": {
     "iopub.execute_input": "2021-09-16T13:05:31.193842Z",
     "iopub.status.busy": "2021-09-16T13:05:31.192902Z",
     "iopub.status.idle": "2021-09-16T13:05:31.197348Z",
     "shell.execute_reply": "2021-09-16T13:05:31.196679Z",
     "shell.execute_reply.started": "2021-09-16T12:56:57.270502Z"
    },
    "papermill": {
     "duration": 0.092153,
     "end_time": "2021-09-16T13:05:31.197495",
     "exception": false,
     "start_time": "2021-09-16T13:05:31.105342",
     "status": "completed"
    },
    "tags": []
   },
   "outputs": [
    {
     "data": {
      "text/plain": [
       "set()"
      ]
     },
     "execution_count": 6,
     "metadata": {},
     "output_type": "execute_result"
    }
   ],
   "source": [
    "set(raw_train.enrollee_id)&set(set(raw_test.enrollee_id))"
   ]
  },
  {
   "cell_type": "markdown",
   "metadata": {
    "papermill": {
     "duration": 0.072084,
     "end_time": "2021-09-16T13:05:31.343194",
     "exception": false,
     "start_time": "2021-09-16T13:05:31.271110",
     "status": "completed"
    },
    "tags": []
   },
   "source": [
    "# Target"
   ]
  },
  {
   "cell_type": "markdown",
   "metadata": {
    "papermill": {
     "duration": 0.077516,
     "end_time": "2021-09-16T13:05:31.497127",
     "exception": false,
     "start_time": "2021-09-16T13:05:31.419611",
     "status": "completed"
    },
    "tags": []
   },
   "source": [
    "* 0 – Not looking for job change, \n",
    "* 1 – Looking for a job change\n",
    "\n",
    "We have a big imbalance in data.  "
   ]
  },
  {
   "cell_type": "code",
   "execution_count": 7,
   "metadata": {
    "execution": {
     "iopub.execute_input": "2021-09-16T13:05:31.645199Z",
     "iopub.status.busy": "2021-09-16T13:05:31.644555Z",
     "iopub.status.idle": "2021-09-16T13:05:31.811188Z",
     "shell.execute_reply": "2021-09-16T13:05:31.810615Z",
     "shell.execute_reply.started": "2021-09-16T12:56:57.290842Z"
    },
    "papermill": {
     "duration": 0.241539,
     "end_time": "2021-09-16T13:05:31.811341",
     "exception": false,
     "start_time": "2021-09-16T13:05:31.569802",
     "status": "completed"
    },
    "tags": []
   },
   "outputs": [
    {
     "data": {
      "image/png": "[encoded data removed]",
      "text/plain": [
       "<Figure size 432x288 with 1 Axes>"
      ]
     },
     "metadata": {
      "needs_background": "light"
     },
     "output_type": "display_data"
    }
   ],
   "source": [
    "graf = sns.countplot(y=\"target\", data=raw_train, alpha=0.8)\n",
    "plt.xlabel('Number of Data', fontsize=12)\n",
    "plt.ylabel('target', fontsize=12)\n",
    "\n",
    "plt.show()"
   ]
  },
  {
   "cell_type": "markdown",
   "metadata": {
    "papermill": {
     "duration": 0.074262,
     "end_time": "2021-09-16T13:05:31.959488",
     "exception": false,
     "start_time": "2021-09-16T13:05:31.885226",
     "status": "completed"
    },
    "tags": []
   },
   "source": [
    "# Bar plots"
   ]
  },
  {
   "cell_type": "markdown",
   "metadata": {
    "papermill": {
     "duration": 0.076175,
     "end_time": "2021-09-16T13:05:32.108827",
     "exception": false,
     "start_time": "2021-09-16T13:05:32.032652",
     "status": "completed"
    },
    "tags": []
   },
   "source": [
    "I think that having relevant experience is important if you want to change jobs. Let/s look on the data in this view."
   ]
  },
  {
   "cell_type": "code",
   "execution_count": 8,
   "metadata": {
    "execution": {
     "iopub.execute_input": "2021-09-16T13:05:32.289806Z",
     "iopub.status.busy": "2021-09-16T13:05:32.284153Z",
     "iopub.status.idle": "2021-09-16T13:05:35.673879Z",
     "shell.execute_reply": "2021-09-16T13:05:35.673196Z",
     "shell.execute_reply.started": "2021-09-16T12:56:57.471597Z"
    },
    "papermill": {
     "duration": 3.489513,
     "end_time": "2021-09-16T13:05:35.674029",
     "exception": false,
     "start_time": "2021-09-16T13:05:32.184516",
     "status": "completed"
    },
    "tags": []
   },
   "outputs": [
    {
     "data": {
      "image/png": "[encoded data removed]",
      "text/plain": [
       "<Figure size 1080x1224 with 8 Axes>"
      ]
     },
     "metadata": {
      "needs_background": "light"
     },
     "output_type": "display_data"
    },
    {
     "data": {
      "image/png": "[encoded data removed]",
      "text/plain": [
       "<Figure size 1080x288 with 1 Axes>"
      ]
     },
     "metadata": {
      "needs_background": "light"
     },
     "output_type": "display_data"
    }
   ],
   "source": [
    "plt.figure(figsize=[15,17])\n",
    "fft=[\"gender\", \"relevent_experience\", \"education_level\", \"major_discipline\", \"experience\", \"company_size\", \"company_type\", \"target\"]\n",
    "n=1\n",
    "for f in fft:\n",
    "    plt.subplot(4,2,n)\n",
    "    sns.countplot(x=f, hue='relevent_experience', edgecolor=\"black\", alpha=0.7, data=raw_train)\n",
    "    sns.despine()\n",
    "    plt.title(\"Countplot of {}  by relevent_experience\".format(f))\n",
    "    n=n+1\n",
    "plt.tight_layout()\n",
    "plt.show()\n",
    "\n",
    "\n",
    "    \n",
    "plt.figure(figsize=[15,4])\n",
    "sns.countplot(x='experience', hue='education_level',edgecolor=\"black\", alpha=0.7, data=raw_train)\n",
    "sns.despine()\n",
    "plt.title(\"Countplot of experience by education_level\")\n",
    "plt.show()"
   ]
  },
  {
   "cell_type": "markdown",
   "metadata": {
    "papermill": {
     "duration": 0.077568,
     "end_time": "2021-09-16T13:05:35.831197",
     "exception": false,
     "start_time": "2021-09-16T13:05:35.753629",
     "status": "completed"
    },
    "tags": []
   },
   "source": [
    "I note that these are the largest groups:\n",
    "- men\n",
    "- students\n",
    "- STEM specialization, maybe people have more choice\n",
    "- current company type PVT LTD\n",
    "- over 20 years of experience"
   ]
  },
  {
   "cell_type": "markdown",
   "metadata": {
    "papermill": {
     "duration": 0.078609,
     "end_time": "2021-09-16T13:05:35.988023",
     "exception": false,
     "start_time": "2021-09-16T13:05:35.909414",
     "status": "completed"
    },
    "tags": []
   },
   "source": [
    "# Education level"
   ]
  },
  {
   "cell_type": "code",
   "execution_count": 9,
   "metadata": {
    "execution": {
     "iopub.execute_input": "2021-09-16T13:05:36.151400Z",
     "iopub.status.busy": "2021-09-16T13:05:36.150727Z",
     "iopub.status.idle": "2021-09-16T13:05:36.319646Z",
     "shell.execute_reply": "2021-09-16T13:05:36.320580Z",
     "shell.execute_reply.started": "2021-09-16T12:57:00.783627Z"
    },
    "papermill": {
     "duration": 0.253209,
     "end_time": "2021-09-16T13:05:36.320869",
     "exception": false,
     "start_time": "2021-09-16T13:05:36.067660",
     "status": "completed"
    },
    "tags": []
   },
   "outputs": [
    {
     "data": {
      "image/png": "[encoded data removed]",
      "text/plain": [
       "<Figure size 432x288 with 1 Axes>"
      ]
     },
     "metadata": {
      "needs_background": "light"
     },
     "output_type": "display_data"
    }
   ],
   "source": [
    "education_graf = sns.countplot(x='education_level', alpha=0.8, data=raw_train)\n",
    "plt.ylabel(\"Number of Data\", fontsize=12)\n",
    "plt.xlabel(\"Education level\", fontsize=10)\n",
    "plt.show()"
   ]
  },
  {
   "cell_type": "markdown",
   "metadata": {
    "papermill": {
     "duration": 0.080268,
     "end_time": "2021-09-16T13:05:36.484905",
     "exception": false,
     "start_time": "2021-09-16T13:05:36.404637",
     "status": "completed"
    },
    "tags": []
   },
   "source": [
    "# City development index\n",
    "\n",
    "<img src=\"https://www.researchgate.net/profile/Lubna_Hasan/publication/24115086/figure/tbl4/AS:668624478019607@1536423906970/Calculation-of-CDI-by-UN-HABITAT-GUIP-Index-Formula.png\" width=\"600\">"
   ]
  },
  {
   "cell_type": "code",
   "execution_count": 10,
   "metadata": {
    "execution": {
     "iopub.execute_input": "2021-09-16T13:05:36.695281Z",
     "iopub.status.busy": "2021-09-16T13:05:36.688336Z",
     "iopub.status.idle": "2021-09-16T13:05:38.835130Z",
     "shell.execute_reply": "2021-09-16T13:05:38.834490Z",
     "shell.execute_reply.started": "2021-09-16T12:57:00.971398Z"
    },
    "papermill": {
     "duration": 2.259226,
     "end_time": "2021-09-16T13:05:38.835313",
     "exception": false,
     "start_time": "2021-09-16T13:05:36.576087",
     "status": "completed"
    },
    "tags": []
   },
   "outputs": [
    {
     "data": {
      "text/html": [
       "        <script type=\"text/javascript\">\n",
       "        window.PlotlyConfig = {MathJaxConfig: 'local'};\n",
       "        if (window.MathJax) {MathJax.Hub.Config({SVG: {font: \"STIX-Web\"}});}\n",
       "        if (typeof require !== 'undefined') {\n",
       "        require.undef(\"plotly\");\n",
       "        requirejs.config({\n",
       "            paths: {\n",
       "                'plotly': ['https://cdn.plot.ly/plotly-2.4.2.min']\n",
       "            }\n",
       "        });\n",
       "        require(['plotly'], function(Plotly) {\n",
       "            window._Plotly = Plotly;\n",
       "        });\n",
       "        }\n",
       "        </script>\n",
       "        "
      ]
     },
     "metadata": {},
     "output_type": "display_data"
    },
    {
     "data": {
      "text/html": [
       "<div>                            <div id=\"5cf90c7d-8d26-4ea9-a1b5-06f60604d4b5\" class=\"plotly-graph-div\" style=\"height:900px; width:1000px;\"></div>            <script type=\"text/javascript\">                require([\"plotly\"], function(Plotly) {                    window.PLOTLYENV=window.PLOTLYENV || {};                                    if (document.getElementById(\"5cf90c7d-8d26-4ea9-a1b5-06f60604d4b5\")) {                    Plotly.newPlot(                        \"5cf90c7d-8d26-4ea9-a1b5-06f60604d4b5\",                        [{\"alignmentgroup\":\"True\",\"hovertemplate\":\"count=%{x}<br>city_development_index=%{y}<extra></extra>\",\"legendgroup\":\"\",\"marker\":{\"color\":\"#636efa\",\"pattern\":{\"shape\":\"\"}},\"name\":\"\",\"offsetgroup\":\"\",\"orientation\":\"h\",\"showlegend\":false,\"textposition\":\"auto\",\"type\":\"bar\",\"x\":[45,47,49,53,54,63,67,75,79,79,82,82,86,92,93,94,94,102,103,113,114,119,120,128,128,135,137,140,143,146,151,160,171,175,182,197,247,266,275,280,301,304,431,497,586,683,1336,1533,2702,5200],\"xaxis\":\"x\",\"y\":[\"0.691-\",\"0.848-\",\"0.7659999999999999-\",\"0.727-\",\"0.789-\",\"0.555-\",\"0.74-\",\"0.5579999999999999-\",\"0.738-\",\"0.949-\",\"0.903-\",\"0.7759999999999999-\",\"0.895-\",\"0.527-\",\"0.794-\",\"0.915-\",\"0.843-\",\"0.6890000000000001-\",\"0.866-\",\"0.89-\",\"0.6659999999999999-\",\"0.682-\",\"0.836-\",\"0.762-\",\"0.767-\",\"0.579-\",\"0.8270000000000001-\",\"0.8959999999999999-\",\"0.923-\",\"0.743-\",\"0.878-\",\"0.893-\",\"0.925-\",\"0.802-\",\"0.899-\",\"0.913-\",\"0.55-\",\"0.884-\",\"0.887-\",\"0.754-\",\"0.924-\",\"0.804-\",\"0.855-\",\"0.939-\",\"0.897-\",\"0.698-\",\"0.926-\",\"0.91-\",\"0.624-\",\"0.92-\"],\"yaxis\":\"y\"}],                        {\"barmode\":\"relative\",\"height\":900,\"legend\":{\"tracegroupgap\":0},\"template\":{\"data\":{\"bar\":[{\"error_x\":{\"color\":\"#2a3f5f\"},\"error_y\":{\"color\":\"#2a3f5f\"},\"marker\":{\"line\":{\"color\":\"#E5ECF6\",\"width\":0.5},\"pattern\":{\"fillmode\":\"overlay\",\"size\":10,\"solidity\":0.2}},\"type\":\"bar\"}],\"barpolar\":[{\"marker\":{\"line\":{\"color\":\"#E5ECF6\",\"width\":0.5},\"pattern\":{\"fillmode\":\"overlay\",\"size\":10,\"solidity\":0.2}},\"type\":\"barpolar\"}],\"carpet\":[{\"aaxis\":{\"endlinecolor\":\"#2a3f5f\",\"gridcolor\":\"white\",\"linecolor\":\"white\",\"minorgridcolor\":\"white\",\"startlinecolor\":\"#2a3f5f\"},\"baxis\":{\"endlinecolor\":\"#2a3f5f\",\"gridcolor\":\"white\",\"linecolor\":\"white\",\"minorgridcolor\":\"white\",\"startlinecolor\":\"#2a3f5f\"},\"type\":\"carpet\"}],\"choropleth\":[{\"colorbar\":{\"outlinewidth\":0,\"ticks\":\"\"},\"type\":\"choropleth\"}],\"contour\":[{\"colorbar\":{\"outlinewidth\":0,\"ticks\":\"\"},\"colorscale\":[[0.0,\"#0d0887\"],[0.1111111111111111,\"#46039f\"],[0.2222222222222222,\"#7201a8\"],[0.3333333333333333,\"#9c179e\"],[0.4444444444444444,\"#bd3786\"],[0.5555555555555556,\"#d8576b\"],[0.6666666666666666,\"#ed7953\"],[0.7777777777777778,\"#fb9f3a\"],[0.8888888888888888,\"#fdca26\"],[1.0,\"#f0f921\"]],\"type\":\"contour\"}],\"contourcarpet\":[{\"colorbar\":{\"outlinewidth\":0,\"ticks\":\"\"},\"type\":\"contourcarpet\"}],\"heatmap\":[{\"colorbar\":{\"outlinewidth\":0,\"ticks\":\"\"},\"colorscale\":[[0.0,\"#0d0887\"],[0.1111111111111111,\"#46039f\"],[0.2222222222222222,\"#7201a8\"],[0.3333333333333333,\"#9c179e\"],[0.4444444444444444,\"#bd3786\"],[0.5555555555555556,\"#d8576b\"],[0.6666666666666666,\"#ed7953\"],[0.7777777777777778,\"#fb9f3a\"],[0.8888888888888888,\"#fdca26\"],[1.0,\"#f0f921\"]],\"type\":\"heatmap\"}],\"heatmapgl\":[{\"colorbar\":{\"outlinewidth\":0,\"ticks\":\"\"},\"colorscale\":[[0.0,\"#0d0887\"],[0.1111111111111111,\"#46039f\"],[0.2222222222222222,\"#7201a8\"],[0.3333333333333333,\"#9c179e\"],[0.4444444444444444,\"#bd3786\"],[0.5555555555555556,\"#d8576b\"],[0.6666666666666666,\"#ed7953\"],[0.7777777777777778,\"#fb9f3a\"],[0.8888888888888888,\"#fdca26\"],[1.0,\"#f0f921\"]],\"type\":\"heatmapgl\"}],\"histogram\":[{\"marker\":{\"pattern\":{\"fillmode\":\"overlay\",\"size\":10,\"solidity\":0.2}},\"type\":\"histogram\"}],\"histogram2d\":[{\"colorbar\":{\"outlinewidth\":0,\"ticks\":\"\"},\"colorscale\":[[0.0,\"#0d0887\"],[0.1111111111111111,\"#46039f\"],[0.2222222222222222,\"#7201a8\"],[0.3333333333333333,\"#9c179e\"],[0.4444444444444444,\"#bd3786\"],[0.5555555555555556,\"#d8576b\"],[0.6666666666666666,\"#ed7953\"],[0.7777777777777778,\"#fb9f3a\"],[0.8888888888888888,\"#fdca26\"],[1.0,\"#f0f921\"]],\"type\":\"histogram2d\"}],\"histogram2dcontour\":[{\"colorbar\":{\"outlinewidth\":0,\"ticks\":\"\"},\"colorscale\":[[0.0,\"#0d0887\"],[0.1111111111111111,\"#46039f\"],[0.2222222222222222,\"#7201a8\"],[0.3333333333333333,\"#9c179e\"],[0.4444444444444444,\"#bd3786\"],[0.5555555555555556,\"#d8576b\"],[0.6666666666666666,\"#ed7953\"],[0.7777777777777778,\"#fb9f3a\"],[0.8888888888888888,\"#fdca26\"],[1.0,\"#f0f921\"]],\"type\":\"histogram2dcontour\"}],\"mesh3d\":[{\"colorbar\":{\"outlinewidth\":0,\"ticks\":\"\"},\"type\":\"mesh3d\"}],\"parcoords\":[{\"line\":{\"colorbar\":{\"outlinewidth\":0,\"ticks\":\"\"}},\"type\":\"parcoords\"}],\"pie\":[{\"automargin\":true,\"type\":\"pie\"}],\"scatter\":[{\"marker\":{\"colorbar\":{\"outlinewidth\":0,\"ticks\":\"\"}},\"type\":\"scatter\"}],\"scatter3d\":[{\"line\":{\"colorbar\":{\"outlinewidth\":0,\"ticks\":\"\"}},\"marker\":{\"colorbar\":{\"outlinewidth\":0,\"ticks\":\"\"}},\"type\":\"scatter3d\"}],\"scattercarpet\":[{\"marker\":{\"colorbar\":{\"outlinewidth\":0,\"ticks\":\"\"}},\"type\":\"scattercarpet\"}],\"scattergeo\":[{\"marker\":{\"colorbar\":{\"outlinewidth\":0,\"ticks\":\"\"}},\"type\":\"scattergeo\"}],\"scattergl\":[{\"marker\":{\"colorbar\":{\"outlinewidth\":0,\"ticks\":\"\"}},\"type\":\"scattergl\"}],\"scattermapbox\":[{\"marker\":{\"colorbar\":{\"outlinewidth\":0,\"ticks\":\"\"}},\"type\":\"scattermapbox\"}],\"scatterpolar\":[{\"marker\":{\"colorbar\":{\"outlinewidth\":0,\"ticks\":\"\"}},\"type\":\"scatterpolar\"}],\"scatterpolargl\":[{\"marker\":{\"colorbar\":{\"outlinewidth\":0,\"ticks\":\"\"}},\"type\":\"scatterpolargl\"}],\"scatterternary\":[{\"marker\":{\"colorbar\":{\"outlinewidth\":0,\"ticks\":\"\"}},\"type\":\"scatterternary\"}],\"surface\":[{\"colorbar\":{\"outlinewidth\":0,\"ticks\":\"\"},\"colorscale\":[[0.0,\"#0d0887\"],[0.1111111111111111,\"#46039f\"],[0.2222222222222222,\"#7201a8\"],[0.3333333333333333,\"#9c179e\"],[0.4444444444444444,\"#bd3786\"],[0.5555555555555556,\"#d8576b\"],[0.6666666666666666,\"#ed7953\"],[0.7777777777777778,\"#fb9f3a\"],[0.8888888888888888,\"#fdca26\"],[1.0,\"#f0f921\"]],\"type\":\"surface\"}],\"table\":[{\"cells\":{\"fill\":{\"color\":\"#EBF0F8\"},\"line\":{\"color\":\"white\"}},\"header\":{\"fill\":{\"color\":\"#C8D4E3\"},\"line\":{\"color\":\"white\"}},\"type\":\"table\"}]},\"layout\":{\"annotationdefaults\":{\"arrowcolor\":\"#2a3f5f\",\"arrowhead\":0,\"arrowwidth\":1},\"autotypenumbers\":\"strict\",\"coloraxis\":{\"colorbar\":{\"outlinewidth\":0,\"ticks\":\"\"}},\"colorscale\":{\"diverging\":[[0,\"#8e0152\"],[0.1,\"#c51b7d\"],[0.2,\"#de77ae\"],[0.3,\"#f1b6da\"],[0.4,\"#fde0ef\"],[0.5,\"#f7f7f7\"],[0.6,\"#e6f5d0\"],[0.7,\"#b8e186\"],[0.8,\"#7fbc41\"],[0.9,\"#4d9221\"],[1,\"#276419\"]],\"sequential\":[[0.0,\"#0d0887\"],[0.1111111111111111,\"#46039f\"],[0.2222222222222222,\"#7201a8\"],[0.3333333333333333,\"#9c179e\"],[0.4444444444444444,\"#bd3786\"],[0.5555555555555556,\"#d8576b\"],[0.6666666666666666,\"#ed7953\"],[0.7777777777777778,\"#fb9f3a\"],[0.8888888888888888,\"#fdca26\"],[1.0,\"#f0f921\"]],\"sequentialminus\":[[0.0,\"#0d0887\"],[0.1111111111111111,\"#46039f\"],[0.2222222222222222,\"#7201a8\"],[0.3333333333333333,\"#9c179e\"],[0.4444444444444444,\"#bd3786\"],[0.5555555555555556,\"#d8576b\"],[0.6666666666666666,\"#ed7953\"],[0.7777777777777778,\"#fb9f3a\"],[0.8888888888888888,\"#fdca26\"],[1.0,\"#f0f921\"]]},\"colorway\":[\"#636efa\",\"#EF553B\",\"#00cc96\",\"#ab63fa\",\"#FFA15A\",\"#19d3f3\",\"#FF6692\",\"#B6E880\",\"#FF97FF\",\"#FECB52\"],\"font\":{\"color\":\"#2a3f5f\"},\"geo\":{\"bgcolor\":\"white\",\"lakecolor\":\"white\",\"landcolor\":\"#E5ECF6\",\"showlakes\":true,\"showland\":true,\"subunitcolor\":\"white\"},\"hoverlabel\":{\"align\":\"left\"},\"hovermode\":\"closest\",\"mapbox\":{\"style\":\"light\"},\"paper_bgcolor\":\"white\",\"plot_bgcolor\":\"#E5ECF6\",\"polar\":{\"angularaxis\":{\"gridcolor\":\"white\",\"linecolor\":\"white\",\"ticks\":\"\"},\"bgcolor\":\"#E5ECF6\",\"radialaxis\":{\"gridcolor\":\"white\",\"linecolor\":\"white\",\"ticks\":\"\"}},\"scene\":{\"xaxis\":{\"backgroundcolor\":\"#E5ECF6\",\"gridcolor\":\"white\",\"gridwidth\":2,\"linecolor\":\"white\",\"showbackground\":true,\"ticks\":\"\",\"zerolinecolor\":\"white\"},\"yaxis\":{\"backgroundcolor\":\"#E5ECF6\",\"gridcolor\":\"white\",\"gridwidth\":2,\"linecolor\":\"white\",\"showbackground\":true,\"ticks\":\"\",\"zerolinecolor\":\"white\"},\"zaxis\":{\"backgroundcolor\":\"#E5ECF6\",\"gridcolor\":\"white\",\"gridwidth\":2,\"linecolor\":\"white\",\"showbackground\":true,\"ticks\":\"\",\"zerolinecolor\":\"white\"}},\"shapedefaults\":{\"line\":{\"color\":\"#2a3f5f\"}},\"ternary\":{\"aaxis\":{\"gridcolor\":\"white\",\"linecolor\":\"white\",\"ticks\":\"\"},\"baxis\":{\"gridcolor\":\"white\",\"linecolor\":\"white\",\"ticks\":\"\"},\"bgcolor\":\"#E5ECF6\",\"caxis\":{\"gridcolor\":\"white\",\"linecolor\":\"white\",\"ticks\":\"\"}},\"title\":{\"x\":0.05},\"xaxis\":{\"automargin\":true,\"gridcolor\":\"white\",\"linecolor\":\"white\",\"ticks\":\"\",\"title\":{\"standoff\":15},\"zerolinecolor\":\"white\",\"zerolinewidth\":2},\"yaxis\":{\"automargin\":true,\"gridcolor\":\"white\",\"linecolor\":\"white\",\"ticks\":\"\",\"title\":{\"standoff\":15},\"zerolinecolor\":\"white\",\"zerolinewidth\":2}}},\"title\":{\"text\":\"Count: City development index\"},\"width\":1000,\"xaxis\":{\"anchor\":\"y\",\"domain\":[0.0,1.0],\"title\":{\"text\":\"count\"}},\"yaxis\":{\"anchor\":\"x\",\"domain\":[0.0,1.0],\"title\":{\"text\":\"city_development_index\"}}},                        {\"responsive\": true}                    ).then(function(){\n",
       "                            \n",
       "var gd = document.getElementById('5cf90c7d-8d26-4ea9-a1b5-06f60604d4b5');\n",
       "var x = new MutationObserver(function (mutations, observer) {{\n",
       "        var display = window.getComputedStyle(gd).display;\n",
       "        if (!display || display === 'none') {{\n",
       "            console.log([gd, 'removed!']);\n",
       "            Plotly.purge(gd);\n",
       "            observer.disconnect();\n",
       "        }}\n",
       "}});\n",
       "\n",
       "// Listen for the removal of the full notebook cells\n",
       "var notebookContainer = gd.closest('#notebook-container');\n",
       "if (notebookContainer) {{\n",
       "    x.observe(notebookContainer, {childList: true});\n",
       "}}\n",
       "\n",
       "// Listen for the clearing of the current output cell\n",
       "var outputEl = gd.closest('.output');\n",
       "if (outputEl) {{\n",
       "    x.observe(outputEl, {childList: true});\n",
       "}}\n",
       "\n",
       "                        })                };                });            </script>        </div>"
      ]
     },
     "metadata": {},
     "output_type": "display_data"
    },
    {
     "data": {
      "image/png": "[encoded data removed]",
      "text/plain": [
       "<Figure size 1152x360 with 1 Axes>"
      ]
     },
     "metadata": {
      "needs_background": "light"
     },
     "output_type": "display_data"
    }
   ],
   "source": [
    "import plotly.express as px\n",
    "from plotly.subplots import make_subplots\n",
    "import plotly.graph_objs as go\n",
    "\n",
    "cd = raw_train['city_development_index'].value_counts().reset_index()\n",
    "cd.columns = [\n",
    "    'city_development_index', \n",
    "    'count'\n",
    "]\n",
    "cd['city_development_index'] = cd['city_development_index'].astype(str) + '-'\n",
    "cd = cd.sort_values(['count']).tail(50)\n",
    "\n",
    "fig = px.bar(\n",
    "    cd, \n",
    "    x='count', \n",
    "    y='city_development_index', \n",
    "    orientation='h', \n",
    "    title='Count: City development index', \n",
    "    width=1000,\n",
    "    height=900 \n",
    ")\n",
    "\n",
    "fig.show()\n",
    "\n",
    "f, axes = plt.subplots(1,1, figsize = (16, 5))\n",
    "g1 = sns.distplot(raw_train[\"city_development_index\"], color=\"red\",ax = axes)\n",
    "plt.title(\"Distributional of city_development_index\")\n",
    "plt.show()"
   ]
  },
  {
   "cell_type": "code",
   "execution_count": 11,
   "metadata": {
    "execution": {
     "iopub.execute_input": "2021-09-16T13:05:39.013630Z",
     "iopub.status.busy": "2021-09-16T13:05:39.012893Z",
     "iopub.status.idle": "2021-09-16T13:05:39.199332Z",
     "shell.execute_reply": "2021-09-16T13:05:39.198619Z",
     "shell.execute_reply.started": "2021-09-16T12:57:02.952500Z"
    },
    "papermill": {
     "duration": 0.277799,
     "end_time": "2021-09-16T13:05:39.199495",
     "exception": false,
     "start_time": "2021-09-16T13:05:38.921696",
     "status": "completed"
    },
    "tags": []
   },
   "outputs": [
    {
     "data": {
      "image/png": "[encoded data removed]",
      "text/plain": [
       "<Figure size 432x288 with 1 Axes>"
      ]
     },
     "metadata": {
      "needs_background": "light"
     },
     "output_type": "display_data"
    }
   ],
   "source": [
    "sns.boxplot(x='target', y='city_development_index', data=raw_train)\n",
    "plt.show()"
   ]
  },
  {
   "cell_type": "markdown",
   "metadata": {
    "papermill": {
     "duration": 0.084874,
     "end_time": "2021-09-16T13:05:39.370820",
     "exception": false,
     "start_time": "2021-09-16T13:05:39.285946",
     "status": "completed"
    },
    "tags": []
   },
   "source": [
    "The probability of a new job search increases when **city development index** is lower."
   ]
  },
  {
   "cell_type": "code",
   "execution_count": 12,
   "metadata": {
    "execution": {
     "iopub.execute_input": "2021-09-16T13:05:39.541522Z",
     "iopub.status.busy": "2021-09-16T13:05:39.540843Z",
     "iopub.status.idle": "2021-09-16T13:05:39.878921Z",
     "shell.execute_reply": "2021-09-16T13:05:39.879541Z",
     "shell.execute_reply.started": "2021-09-16T12:57:03.157953Z"
    },
    "papermill": {
     "duration": 0.424105,
     "end_time": "2021-09-16T13:05:39.879734",
     "exception": false,
     "start_time": "2021-09-16T13:05:39.455629",
     "status": "completed"
    },
    "tags": []
   },
   "outputs": [
    {
     "data": {
      "image/png": "[encoded data removed]",
      "text/plain": [
       "<Figure size 720x360 with 1 Axes>"
      ]
     },
     "metadata": {
      "needs_background": "light"
     },
     "output_type": "display_data"
    }
   ],
   "source": [
    "plt.figure(figsize=[10, 5])\n",
    "sns.boxplot(x='company_size', y='city_development_index', data=raw_train)\n",
    "plt.xlabel('Company size')\n",
    "plt.ylabel('City development index')\n",
    "plt.show()"
   ]
  },
  {
   "cell_type": "markdown",
   "metadata": {
    "papermill": {
     "duration": 0.08226,
     "end_time": "2021-09-16T13:05:40.044949",
     "exception": false,
     "start_time": "2021-09-16T13:05:39.962689",
     "status": "completed"
    },
    "tags": []
   },
   "source": [
    "Big companies usually are placed in cities with a high rating of **city development index**."
   ]
  },
  {
   "cell_type": "markdown",
   "metadata": {
    "papermill": {
     "duration": 0.093275,
     "end_time": "2021-09-16T13:05:40.222613",
     "exception": false,
     "start_time": "2021-09-16T13:05:40.129338",
     "status": "completed"
    },
    "tags": []
   },
   "source": [
    "# Training hours"
   ]
  },
  {
   "cell_type": "code",
   "execution_count": 13,
   "metadata": {
    "execution": {
     "iopub.execute_input": "2021-09-16T13:05:40.401855Z",
     "iopub.status.busy": "2021-09-16T13:05:40.401119Z",
     "iopub.status.idle": "2021-09-16T13:05:41.578972Z",
     "shell.execute_reply": "2021-09-16T13:05:41.580014Z",
     "shell.execute_reply.started": "2021-09-16T12:57:03.508530Z"
    },
    "papermill": {
     "duration": 1.27332,
     "end_time": "2021-09-16T13:05:41.580280",
     "exception": false,
     "start_time": "2021-09-16T13:05:40.306960",
     "status": "completed"
    },
    "tags": []
   },
   "outputs": [
    {
     "data": {
      "image/png": "[encoded data removed]",
      "text/plain": [
       "<Figure size 411.875x360 with 1 Axes>"
      ]
     },
     "metadata": {
      "needs_background": "light"
     },
     "output_type": "display_data"
    }
   ],
   "source": [
    "sns.displot(x='training_hours',\n",
    "            hue='target',\n",
    "            data=raw_train,\n",
    "            stat=\"probability\")\n",
    "plt.show()"
   ]
  },
  {
   "cell_type": "markdown",
   "metadata": {
    "papermill": {
     "duration": 0.086421,
     "end_time": "2021-09-16T13:05:41.764960",
     "exception": false,
     "start_time": "2021-09-16T13:05:41.678539",
     "status": "completed"
    },
    "tags": []
   },
   "source": [
    "**Training hours** don't provide new correlations from the data."
   ]
  },
  {
   "cell_type": "markdown",
   "metadata": {
    "papermill": {
     "duration": 0.087176,
     "end_time": "2021-09-16T13:05:41.936750",
     "exception": false,
     "start_time": "2021-09-16T13:05:41.849574",
     "status": "completed"
    },
    "tags": []
   },
   "source": [
    "# Feature Engineering"
   ]
  },
  {
   "cell_type": "markdown",
   "metadata": {
    "papermill": {
     "duration": 0.085182,
     "end_time": "2021-09-16T13:05:42.107801",
     "exception": false,
     "start_time": "2021-09-16T13:05:42.022619",
     "status": "completed"
    },
    "tags": []
   },
   "source": [
    "There is a point that young students are inclined to look for a new job, but we do not have a person's age in the dataset, but we can potentially designate it using several features."
   ]
  },
  {
   "cell_type": "code",
   "execution_count": 14,
   "metadata": {
    "execution": {
     "iopub.execute_input": "2021-09-16T13:05:42.283809Z",
     "iopub.status.busy": "2021-09-16T13:05:42.282811Z",
     "iopub.status.idle": "2021-09-16T13:05:42.301015Z",
     "shell.execute_reply": "2021-09-16T13:05:42.300415Z",
     "shell.execute_reply.started": "2021-09-16T12:57:04.713892Z"
    },
    "papermill": {
     "duration": 0.109828,
     "end_time": "2021-09-16T13:05:42.301164",
     "exception": false,
     "start_time": "2021-09-16T13:05:42.191336",
     "status": "completed"
    },
    "tags": []
   },
   "outputs": [],
   "source": [
    "raw_data_age = raw_train[['enrollee_id', 'education_level', 'experience', 'last_new_job']]\\\n",
    "    .groupby(['education_level', 'experience', 'last_new_job']).sum('enrollee_id').reset_index()"
   ]
  },
  {
   "cell_type": "code",
   "execution_count": 15,
   "metadata": {
    "execution": {
     "iopub.execute_input": "2021-09-16T13:05:42.493142Z",
     "iopub.status.busy": "2021-09-16T13:05:42.492296Z",
     "iopub.status.idle": "2021-09-16T13:05:42.495668Z",
     "shell.execute_reply": "2021-09-16T13:05:42.496176Z",
     "shell.execute_reply.started": "2021-09-16T12:57:04.738108Z"
    },
    "papermill": {
     "duration": 0.10434,
     "end_time": "2021-09-16T13:05:42.496351",
     "exception": false,
     "start_time": "2021-09-16T13:05:42.392011",
     "status": "completed"
    },
    "tags": []
   },
   "outputs": [
    {
     "data": {
      "text/html": [
       "<div>\n",
       "<style scoped>\n",
       "    .dataframe tbody tr th:only-of-type {\n",
       "        vertical-align: middle;\n",
       "    }\n",
       "\n",
       "    .dataframe tbody tr th {\n",
       "        vertical-align: top;\n",
       "    }\n",
       "\n",
       "    .dataframe thead th {\n",
       "        text-align: right;\n",
       "    }\n",
       "</style>\n",
       "<table border=\"1\" class=\"dataframe\">\n",
       "  <thead>\n",
       "    <tr style=\"text-align: right;\">\n",
       "      <th></th>\n",
       "      <th>education_level</th>\n",
       "      <th>experience</th>\n",
       "      <th>last_new_job</th>\n",
       "      <th>enrollee_id</th>\n",
       "    </tr>\n",
       "  </thead>\n",
       "  <tbody>\n",
       "    <tr>\n",
       "      <th>0</th>\n",
       "      <td>Graduate</td>\n",
       "      <td>1</td>\n",
       "      <td>1</td>\n",
       "      <td>3631352</td>\n",
       "    </tr>\n",
       "    <tr>\n",
       "      <th>1</th>\n",
       "      <td>Graduate</td>\n",
       "      <td>1</td>\n",
       "      <td>never</td>\n",
       "      <td>1431833</td>\n",
       "    </tr>\n",
       "    <tr>\n",
       "      <th>2</th>\n",
       "      <td>Graduate</td>\n",
       "      <td>10</td>\n",
       "      <td>1</td>\n",
       "      <td>4285362</td>\n",
       "    </tr>\n",
       "    <tr>\n",
       "      <th>3</th>\n",
       "      <td>Graduate</td>\n",
       "      <td>10</td>\n",
       "      <td>2</td>\n",
       "      <td>1805169</td>\n",
       "    </tr>\n",
       "    <tr>\n",
       "      <th>4</th>\n",
       "      <td>Graduate</td>\n",
       "      <td>10</td>\n",
       "      <td>3</td>\n",
       "      <td>733292</td>\n",
       "    </tr>\n",
       "  </tbody>\n",
       "</table>\n",
       "</div>"
      ],
      "text/plain": [
       "  education_level experience last_new_job  enrollee_id\n",
       "0        Graduate          1            1      3631352\n",
       "1        Graduate          1        never      1431833\n",
       "2        Graduate         10            1      4285362\n",
       "3        Graduate         10            2      1805169\n",
       "4        Graduate         10            3       733292"
      ]
     },
     "execution_count": 15,
     "metadata": {},
     "output_type": "execute_result"
    }
   ],
   "source": [
    "raw_data_age[:5]"
   ]
  },
  {
   "cell_type": "markdown",
   "metadata": {
    "papermill": {
     "duration": 0.083575,
     "end_time": "2021-09-16T13:05:42.665708",
     "exception": false,
     "start_time": "2021-09-16T13:05:42.582133",
     "status": "completed"
    },
    "tags": []
   },
   "source": [
    "People with PhD and extensive experience cannot be in a group under 20 years old because this  PhD and Master's degree are not for young specialists.\n",
    "\n",
    "Let's take an approximate time frame for age categories, if there is more data, it can be made more accurate than focusing on education and experience.\n",
    "\n",
    "- young < 20 y.o.\n",
    "- adult - 20-40 y.o.\n",
    "- middle - 40-60 y.o.\n",
    "- old - >60 y.o."
   ]
  },
  {
   "cell_type": "code",
   "execution_count": 16,
   "metadata": {
    "execution": {
     "iopub.execute_input": "2021-09-16T13:05:42.845889Z",
     "iopub.status.busy": "2021-09-16T13:05:42.845035Z",
     "iopub.status.idle": "2021-09-16T13:05:42.847849Z",
     "shell.execute_reply": "2021-09-16T13:05:42.848374Z",
     "shell.execute_reply.started": "2021-09-16T12:57:04.753194Z"
    },
    "papermill": {
     "duration": 0.096365,
     "end_time": "2021-09-16T13:05:42.848553",
     "exception": false,
     "start_time": "2021-09-16T13:05:42.752188",
     "status": "completed"
    },
    "tags": []
   },
   "outputs": [],
   "source": [
    "def get_age_category(x, y):\n",
    "    if ((x in ['1', '2', '3', '4', '5', '6', '<1', '7', '8']) &\n",
    "            ((y in ['Phd']) | (y in ['Masters']) | (y in ['Graduate']))):\n",
    "        return 'Adult'\n",
    "    elif ((x in ['1', '2', '3', '<1']) & (y != 'Phd') & (y != 'Masters') &\n",
    "          (y != 'Graduate')):\n",
    "        return 'Young'\n",
    "    elif (x in ['9', '10', '11', '12', '13', '14', '15']):\n",
    "        return 'Middle'\n",
    "    elif (x in ['16', '17', '18', '19', '20', '>20']):\n",
    "        return 'Old'"
   ]
  },
  {
   "cell_type": "code",
   "execution_count": 17,
   "metadata": {
    "execution": {
     "iopub.execute_input": "2021-09-16T13:05:43.022693Z",
     "iopub.status.busy": "2021-09-16T13:05:43.021970Z",
     "iopub.status.idle": "2021-09-16T13:05:43.411343Z",
     "shell.execute_reply": "2021-09-16T13:05:43.411984Z",
     "shell.execute_reply.started": "2021-09-16T12:57:04.765229Z"
    },
    "papermill": {
     "duration": 0.478688,
     "end_time": "2021-09-16T13:05:43.412188",
     "exception": false,
     "start_time": "2021-09-16T13:05:42.933500",
     "status": "completed"
    },
    "tags": []
   },
   "outputs": [],
   "source": [
    "raw_train['age'] = raw_train.apply(lambda row: get_age_category(row['experience'], row['education_level']), axis=1)"
   ]
  },
  {
   "cell_type": "code",
   "execution_count": 18,
   "metadata": {
    "execution": {
     "iopub.execute_input": "2021-09-16T13:05:43.590221Z",
     "iopub.status.busy": "2021-09-16T13:05:43.589526Z",
     "iopub.status.idle": "2021-09-16T13:05:43.599416Z",
     "shell.execute_reply": "2021-09-16T13:05:43.598794Z",
     "shell.execute_reply.started": "2021-09-16T12:57:05.155975Z"
    },
    "papermill": {
     "duration": 0.102124,
     "end_time": "2021-09-16T13:05:43.599563",
     "exception": false,
     "start_time": "2021-09-16T13:05:43.497439",
     "status": "completed"
    },
    "tags": []
   },
   "outputs": [
    {
     "data": {
      "text/plain": [
       "Adult     7373\n",
       "Old       4868\n",
       "Middle    4794\n",
       "Young     1034\n",
       "Name: age, dtype: int64"
      ]
     },
     "execution_count": 18,
     "metadata": {},
     "output_type": "execute_result"
    }
   ],
   "source": [
    "raw_train.age.value_counts()"
   ]
  },
  {
   "cell_type": "markdown",
   "metadata": {
    "papermill": {
     "duration": 0.083502,
     "end_time": "2021-09-16T13:05:43.769736",
     "exception": false,
     "start_time": "2021-09-16T13:05:43.686234",
     "status": "completed"
    },
    "tags": []
   },
   "source": [
    "# Correlation in Data"
   ]
  },
  {
   "cell_type": "markdown",
   "metadata": {
    "papermill": {
     "duration": 0.08577,
     "end_time": "2021-09-16T13:05:43.942293",
     "exception": false,
     "start_time": "2021-09-16T13:05:43.856523",
     "status": "completed"
    },
    "tags": []
   },
   "source": [
    "Here I try to measure correlation in data using Correlation coefficients.\n",
    "\n",
    "Correlation coefficientsare used to measure how strong a relationship is between two variables.Correlation coefficient formulas are used to find how strong a relationship is between data. The formulas return a value between -1 and 1, where:\n",
    " \n",
    "* 1 indicates a strong positive relationship.\n",
    "* -1 indicates a strong negative relationship.\n",
    "* A result of zero indicates no relationship at all."
   ]
  },
  {
   "cell_type": "code",
   "execution_count": 19,
   "metadata": {
    "execution": {
     "iopub.execute_input": "2021-09-16T13:05:44.121349Z",
     "iopub.status.busy": "2021-09-16T13:05:44.120422Z",
     "iopub.status.idle": "2021-09-16T13:05:44.130652Z",
     "shell.execute_reply": "2021-09-16T13:05:44.130010Z",
     "shell.execute_reply.started": "2021-09-16T12:57:05.168993Z"
    },
    "papermill": {
     "duration": 0.103752,
     "end_time": "2021-09-16T13:05:44.130830",
     "exception": false,
     "start_time": "2021-09-16T13:05:44.027078",
     "status": "completed"
    },
    "tags": []
   },
   "outputs": [
    {
     "data": {
      "text/plain": [
       "city_development_index   -0.341665\n",
       "training_hours           -0.021577\n",
       "enrollee_id               0.049475\n",
       "Name: target, dtype: float64"
      ]
     },
     "execution_count": 19,
     "metadata": {},
     "output_type": "execute_result"
    }
   ],
   "source": [
    "corr=raw_train.corr()[\"target\"]\n",
    "corr[np.argsort(corr, axis=0)[:-1]]"
   ]
  },
  {
   "cell_type": "markdown",
   "metadata": {
    "papermill": {
     "duration": 0.085988,
     "end_time": "2021-09-16T13:05:44.302617",
     "exception": false,
     "start_time": "2021-09-16T13:05:44.216629",
     "status": "completed"
    },
    "tags": []
   },
   "source": [
    "Below we are plotting heatmap showing nullity correlation between various columns of dataset.\n",
    "\n",
    "The nullity correlation ranges from -1 to 1.\n",
    "\n",
    "* -1 - Exact Negative correlation represents that if the value of one variable is present then the value of other variables is definitely absent.\n",
    "* 0 - No correlation represents that variables values present or absent do not have any effect on one another.\n",
    "* 1 - Exact Positive correlation represents that if the value of one variable is present then the value of the other is definitely present."
   ]
  },
  {
   "cell_type": "code",
   "execution_count": 20,
   "metadata": {
    "execution": {
     "iopub.execute_input": "2021-09-16T13:05:44.480586Z",
     "iopub.status.busy": "2021-09-16T13:05:44.479866Z",
     "iopub.status.idle": "2021-09-16T13:05:45.177102Z",
     "shell.execute_reply": "2021-09-16T13:05:45.177620Z",
     "shell.execute_reply.started": "2021-09-16T12:57:05.186821Z"
    },
    "papermill": {
     "duration": 0.789965,
     "end_time": "2021-09-16T13:05:45.177815",
     "exception": false,
     "start_time": "2021-09-16T13:05:44.387850",
     "status": "completed"
    },
    "tags": []
   },
   "outputs": [
    {
     "data": {
      "image/png": "[encoded data removed]",
      "text/plain": [
       "<Figure size 720x360 with 2 Axes>"
      ]
     },
     "metadata": {
      "needs_background": "light"
     },
     "output_type": "display_data"
    }
   ],
   "source": [
    "import missingno\n",
    "missingno.heatmap(raw_train, cmap=\"RdYlGn\", figsize=(10,5), fontsize=12);"
   ]
  },
  {
   "cell_type": "markdown",
   "metadata": {
    "papermill": {
     "duration": 0.08959,
     "end_time": "2021-09-16T13:05:45.355722",
     "exception": false,
     "start_time": "2021-09-16T13:05:45.266132",
     "status": "completed"
    },
    "tags": []
   },
   "source": [
    "# Prerpocessing"
   ]
  },
  {
   "cell_type": "markdown",
   "metadata": {
    "papermill": {
     "duration": 0.08966,
     "end_time": "2021-09-16T13:05:45.536095",
     "exception": false,
     "start_time": "2021-09-16T13:05:45.446435",
     "status": "completed"
    },
    "tags": []
   },
   "source": [
    "Here I find unique names of columns of objects and create functions that convert all values into numbers."
   ]
  },
  {
   "cell_type": "code",
   "execution_count": 21,
   "metadata": {
    "execution": {
     "iopub.execute_input": "2021-09-16T13:05:45.717484Z",
     "iopub.status.busy": "2021-09-16T13:05:45.716435Z",
     "iopub.status.idle": "2021-09-16T13:05:45.742008Z",
     "shell.execute_reply": "2021-09-16T13:05:45.742499Z",
     "shell.execute_reply.started": "2021-09-16T12:57:05.989012Z"
    },
    "papermill": {
     "duration": 0.116224,
     "end_time": "2021-09-16T13:05:45.742686",
     "exception": false,
     "start_time": "2021-09-16T13:05:45.626462",
     "status": "completed"
    },
    "tags": []
   },
   "outputs": [],
   "source": [
    "cols_object = list(raw_train.dtypes[raw_train.dtypes =='object'].index)\n",
    "t = 0\n",
    "for i in cols_object:\n",
    "    cols_object[t] = raw_train[i].unique()  \n",
    "    cols_object[t] = [i for i in cols_object[t] if i is not np.nan]\n",
    "    t = t+1\n",
    "    \n",
    "cols_object[-1] = [i for i in cols_object[-1] if i is not  None]"
   ]
  },
  {
   "cell_type": "code",
   "execution_count": 22,
   "metadata": {
    "execution": {
     "iopub.execute_input": "2021-09-16T13:05:45.927090Z",
     "iopub.status.busy": "2021-09-16T13:05:45.926259Z",
     "iopub.status.idle": "2021-09-16T13:05:45.933695Z",
     "shell.execute_reply": "2021-09-16T13:05:45.932453Z",
     "shell.execute_reply.started": "2021-09-16T12:57:06.017607Z"
    },
    "papermill": {
     "duration": 0.100027,
     "end_time": "2021-09-16T13:05:45.934000",
     "exception": false,
     "start_time": "2021-09-16T13:05:45.833973",
     "status": "completed"
    },
    "tags": []
   },
   "outputs": [
    {
     "name": "stdout",
     "output_type": "stream",
     "text": [
      "[['city_103', 'city_40', 'city_21', 'city_115', 'city_162', 'city_176', 'city_160', 'city_46', 'city_61', 'city_114', 'city_13', 'city_159', 'city_102', 'city_67', 'city_100', 'city_16', 'city_71', 'city_104', 'city_64', 'city_101', 'city_83', 'city_105', 'city_73', 'city_75', 'city_41', 'city_11', 'city_93', 'city_90', 'city_36', 'city_20', 'city_57', 'city_152', 'city_19', 'city_65', 'city_74', 'city_173', 'city_136', 'city_98', 'city_97', 'city_50', 'city_138', 'city_82', 'city_157', 'city_89', 'city_150', 'city_70', 'city_175', 'city_94', 'city_28', 'city_59', 'city_165', 'city_145', 'city_142', 'city_26', 'city_12', 'city_37', 'city_43', 'city_116', 'city_23', 'city_99', 'city_149', 'city_10', 'city_45', 'city_80', 'city_128', 'city_158', 'city_123', 'city_7', 'city_72', 'city_106', 'city_143', 'city_78', 'city_109', 'city_24', 'city_134', 'city_48', 'city_144', 'city_91', 'city_146', 'city_133', 'city_126', 'city_118', 'city_9', 'city_167', 'city_27', 'city_84', 'city_54', 'city_39', 'city_79', 'city_76', 'city_77', 'city_81', 'city_131', 'city_44', 'city_117', 'city_155', 'city_33', 'city_141', 'city_127', 'city_62', 'city_53', 'city_25', 'city_2', 'city_69', 'city_120', 'city_111', 'city_30', 'city_1', 'city_140', 'city_179', 'city_55', 'city_14', 'city_42', 'city_107', 'city_18', 'city_139', 'city_180', 'city_166', 'city_121', 'city_129', 'city_8', 'city_31', 'city_171'], ['Male', 'Female', 'Other'], ['Has relevent experience', 'No relevent experience'], ['no_enrollment', 'Full time course', 'Part time course'], ['Graduate', 'Masters', 'High School', 'Phd', 'Primary School'], ['STEM', 'Business Degree', 'Arts', 'Humanities', 'No Major', 'Other'], ['>20', '15', '5', '<1', '11', '13', '7', '17', '2', '16', '1', '4', '10', '14', '18', '19', '12', '3', '6', '9', '8', '20'], ['50-99', '<10', '10000+', '5000-9999', '1000-4999', '10/49', '100-500', '500-999'], ['Pvt Ltd', 'Funded Startup', 'Early Stage Startup', 'Other', 'Public Sector', 'NGO'], ['1', '>4', 'never', '4', '3', '2'], ['Old', 'Middle', 'Adult', 'Young']]\n"
     ]
    }
   ],
   "source": [
    "print(cols_object)"
   ]
  },
  {
   "cell_type": "code",
   "execution_count": 23,
   "metadata": {
    "execution": {
     "iopub.execute_input": "2021-09-16T13:05:46.129842Z",
     "iopub.status.busy": "2021-09-16T13:05:46.129104Z",
     "iopub.status.idle": "2021-09-16T13:05:46.132421Z",
     "shell.execute_reply": "2021-09-16T13:05:46.133322Z",
     "shell.execute_reply.started": "2021-09-16T12:57:06.024353Z"
    },
    "papermill": {
     "duration": 0.110134,
     "end_time": "2021-09-16T13:05:46.133588",
     "exception": false,
     "start_time": "2021-09-16T13:05:46.023454",
     "status": "completed"
    },
    "tags": []
   },
   "outputs": [
    {
     "name": "stdout",
     "output_type": "stream",
     "text": [
      "['city', 'gender', 'relevent_experience', 'enrolled_university', 'education_level', 'major_discipline', 'experience', 'company_size', 'company_type', 'last_new_job', 'age']\n"
     ]
    }
   ],
   "source": [
    "cols = list(raw_train.dtypes[raw_train.dtypes =='object'].index)\n",
    "\n",
    "print(cols)"
   ]
  },
  {
   "cell_type": "code",
   "execution_count": 24,
   "metadata": {
    "execution": {
     "iopub.execute_input": "2021-09-16T13:05:46.326107Z",
     "iopub.status.busy": "2021-09-16T13:05:46.318799Z",
     "iopub.status.idle": "2021-09-16T13:05:46.365279Z",
     "shell.execute_reply": "2021-09-16T13:05:46.365764Z",
     "shell.execute_reply.started": "2021-09-16T12:57:06.039771Z"
    },
    "papermill": {
     "duration": 0.138747,
     "end_time": "2021-09-16T13:05:46.365979",
     "exception": false,
     "start_time": "2021-09-16T13:05:46.227232",
     "status": "completed"
    },
    "tags": []
   },
   "outputs": [],
   "source": [
    "names = {\n",
    "    'city': 0, \n",
    "    'gender': 1, \n",
    "    'relevent_experience': 2, \n",
    "    'enrolled_university': 3, \n",
    "    'education_level': 4, \n",
    "    'major_discipline': 5, \n",
    "    'experience': 6, \n",
    "    'company_size': 7, \n",
    "    'company_type': 8, \n",
    "    'last_new_job': 9, \n",
    "    'age': 10\n",
    "}\n",
    "\n",
    "_dict = {key: {cols_object[names[key]][i]: i for i in range(len(cols_object[names[key]]))} for key in cols}\n",
    "\n",
    "for key in cols:\n",
    "    raw_train[key] = raw_train[key].map(_dict[key]) "
   ]
  },
  {
   "cell_type": "code",
   "execution_count": 25,
   "metadata": {
    "execution": {
     "iopub.execute_input": "2021-09-16T13:05:46.605795Z",
     "iopub.status.busy": "2021-09-16T13:05:46.602897Z",
     "iopub.status.idle": "2021-09-16T13:05:46.618905Z",
     "shell.execute_reply": "2021-09-16T13:05:46.619763Z",
     "shell.execute_reply.started": "2021-09-16T12:57:06.091820Z"
    },
    "papermill": {
     "duration": 0.164954,
     "end_time": "2021-09-16T13:05:46.620040",
     "exception": false,
     "start_time": "2021-09-16T13:05:46.455086",
     "status": "completed"
    },
    "tags": []
   },
   "outputs": [
    {
     "name": "stdout",
     "output_type": "stream",
     "text": [
      "<class 'pandas.core.frame.DataFrame'>\n",
      "RangeIndex: 19158 entries, 0 to 19157\n",
      "Data columns (total 15 columns):\n",
      " #   Column                  Non-Null Count  Dtype  \n",
      "---  ------                  --------------  -----  \n",
      " 0   enrollee_id             19158 non-null  int64  \n",
      " 1   city                    19158 non-null  int64  \n",
      " 2   city_development_index  19158 non-null  float64\n",
      " 3   gender                  14650 non-null  float64\n",
      " 4   relevent_experience     19158 non-null  int64  \n",
      " 5   enrolled_university     18772 non-null  float64\n",
      " 6   education_level         18698 non-null  float64\n",
      " 7   major_discipline        16345 non-null  float64\n",
      " 8   experience              19093 non-null  float64\n",
      " 9   company_size            13220 non-null  float64\n",
      " 10  company_type            13018 non-null  float64\n",
      " 11  last_new_job            18735 non-null  float64\n",
      " 12  training_hours          19158 non-null  int64  \n",
      " 13  target                  19158 non-null  float64\n",
      " 14  age                     18069 non-null  float64\n",
      "dtypes: float64(11), int64(4)\n",
      "memory usage: 2.2 MB\n"
     ]
    }
   ],
   "source": [
    "raw_train.info()"
   ]
  },
  {
   "cell_type": "markdown",
   "metadata": {
    "papermill": {
     "duration": 0.095335,
     "end_time": "2021-09-16T13:05:46.806551",
     "exception": false,
     "start_time": "2021-09-16T13:05:46.711216",
     "status": "completed"
    },
    "tags": []
   },
   "source": [
    "# Fill missing values"
   ]
  },
  {
   "cell_type": "code",
   "execution_count": 26,
   "metadata": {
    "execution": {
     "iopub.execute_input": "2021-09-16T13:05:47.004171Z",
     "iopub.status.busy": "2021-09-16T13:05:47.002681Z",
     "iopub.status.idle": "2021-09-16T13:05:47.009596Z",
     "shell.execute_reply": "2021-09-16T13:05:47.008518Z",
     "shell.execute_reply.started": "2021-09-16T12:57:06.116765Z"
    },
    "papermill": {
     "duration": 0.107847,
     "end_time": "2021-09-16T13:05:47.009835",
     "exception": false,
     "start_time": "2021-09-16T13:05:46.901988",
     "status": "completed"
    },
    "tags": []
   },
   "outputs": [
    {
     "name": "stdout",
     "output_type": "stream",
     "text": [
      "Any missing sample in training set: True\n"
     ]
    }
   ],
   "source": [
    "print(\"Any missing sample in training set:\",raw_train.isnull().values.any())"
   ]
  },
  {
   "cell_type": "code",
   "execution_count": 27,
   "metadata": {
    "execution": {
     "iopub.execute_input": "2021-09-16T13:05:47.208630Z",
     "iopub.status.busy": "2021-09-16T13:05:47.207771Z",
     "iopub.status.idle": "2021-09-16T13:05:47.221802Z",
     "shell.execute_reply": "2021-09-16T13:05:47.221203Z",
     "shell.execute_reply.started": "2021-09-16T12:57:06.133176Z"
    },
    "papermill": {
     "duration": 0.115851,
     "end_time": "2021-09-16T13:05:47.221964",
     "exception": false,
     "start_time": "2021-09-16T13:05:47.106113",
     "status": "completed"
    },
    "tags": []
   },
   "outputs": [
    {
     "data": {
      "text/plain": [
       "gender                 23.530640\n",
       "enrolled_university     2.014824\n",
       "education_level         2.401086\n",
       "major_discipline       14.683161\n",
       "experience              0.339284\n",
       "company_size           30.994885\n",
       "company_type           32.049274\n",
       "last_new_job            2.207955\n",
       "age                     5.684309\n",
       "dtype: float64"
      ]
     },
     "execution_count": 27,
     "metadata": {},
     "output_type": "execute_result"
    }
   ],
   "source": [
    "raw_train.isna().mean()[raw_train.isna().mean() > 0] * 100"
   ]
  },
  {
   "cell_type": "code",
   "execution_count": 28,
   "metadata": {
    "execution": {
     "iopub.execute_input": "2021-09-16T13:05:47.410164Z",
     "iopub.status.busy": "2021-09-16T13:05:47.409072Z",
     "iopub.status.idle": "2021-09-16T13:05:47.416721Z",
     "shell.execute_reply": "2021-09-16T13:05:47.417297Z",
     "shell.execute_reply.started": "2021-09-16T12:57:06.165298Z"
    },
    "papermill": {
     "duration": 0.105464,
     "end_time": "2021-09-16T13:05:47.417468",
     "exception": false,
     "start_time": "2021-09-16T13:05:47.312004",
     "status": "completed"
    },
    "tags": []
   },
   "outputs": [
    {
     "data": {
      "text/plain": [
       "['gender',\n",
       " 'enrolled_university',\n",
       " 'education_level',\n",
       " 'major_discipline',\n",
       " 'experience',\n",
       " 'company_size',\n",
       " 'company_type',\n",
       " 'last_new_job',\n",
       " 'age']"
      ]
     },
     "execution_count": 28,
     "metadata": {},
     "output_type": "execute_result"
    }
   ],
   "source": [
    "missing_cols = raw_train.columns[raw_train.isna().any()].tolist()\n",
    "\n",
    "missing_cols"
   ]
  },
  {
   "cell_type": "markdown",
   "metadata": {
    "papermill": {
     "duration": 0.10443,
     "end_time": "2021-09-16T13:05:47.613649",
     "exception": false,
     "start_time": "2021-09-16T13:05:47.509219",
     "status": "completed"
    },
    "tags": []
   },
   "source": [
    "I choose to use a k-nearest neighbour method for missing values.To do this, divide the dataframe into columns with and without missing values."
   ]
  },
  {
   "cell_type": "code",
   "execution_count": 29,
   "metadata": {
    "execution": {
     "iopub.execute_input": "2021-09-16T13:05:47.811136Z",
     "iopub.status.busy": "2021-09-16T13:05:47.810104Z",
     "iopub.status.idle": "2021-09-16T13:05:47.818500Z",
     "shell.execute_reply": "2021-09-16T13:05:47.819041Z",
     "shell.execute_reply.started": "2021-09-16T12:57:06.178116Z"
    },
    "papermill": {
     "duration": 0.101985,
     "end_time": "2021-09-16T13:05:47.819248",
     "exception": false,
     "start_time": "2021-09-16T13:05:47.717263",
     "status": "completed"
    },
    "tags": []
   },
   "outputs": [],
   "source": [
    "#dataframe having features with missing values\n",
    "df_missing = raw_train[['enrollee_id'] + missing_cols]\n",
    "\n",
    "#dataframe having features without missing values\n",
    "df_non_missing = raw_train.drop(missing_cols, axis = 1)"
   ]
  },
  {
   "cell_type": "code",
   "execution_count": 30,
   "metadata": {
    "execution": {
     "iopub.execute_input": "2021-09-16T13:05:48.003059Z",
     "iopub.status.busy": "2021-09-16T13:05:48.002054Z",
     "iopub.status.idle": "2021-09-16T13:06:02.730171Z",
     "shell.execute_reply": "2021-09-16T13:06:02.730854Z",
     "shell.execute_reply.started": "2021-09-16T12:57:06.199096Z"
    },
    "papermill": {
     "duration": 14.823397,
     "end_time": "2021-09-16T13:06:02.731052",
     "exception": false,
     "start_time": "2021-09-16T13:05:47.907655",
     "status": "completed"
    },
    "tags": []
   },
   "outputs": [],
   "source": [
    "knn = KNNImputer(n_neighbors = 3)\n",
    "X = np.round(knn.fit_transform(df_missing))\n",
    "df_missing = pd.DataFrame(X, columns = df_missing.columns)"
   ]
  },
  {
   "cell_type": "code",
   "execution_count": 31,
   "metadata": {
    "execution": {
     "iopub.execute_input": "2021-09-16T13:06:02.916439Z",
     "iopub.status.busy": "2021-09-16T13:06:02.915576Z",
     "iopub.status.idle": "2021-09-16T13:06:02.936843Z",
     "shell.execute_reply": "2021-09-16T13:06:02.936135Z",
     "shell.execute_reply.started": "2021-09-16T12:57:19.950965Z"
    },
    "papermill": {
     "duration": 0.117228,
     "end_time": "2021-09-16T13:06:02.936998",
     "exception": false,
     "start_time": "2021-09-16T13:06:02.819770",
     "status": "completed"
    },
    "tags": []
   },
   "outputs": [],
   "source": [
    "#Let's join both dataframes\n",
    "train = pd.merge(df_missing, df_non_missing, on = 'enrollee_id')"
   ]
  },
  {
   "cell_type": "code",
   "execution_count": 32,
   "metadata": {
    "execution": {
     "iopub.execute_input": "2021-09-16T13:06:03.123610Z",
     "iopub.status.busy": "2021-09-16T13:06:03.122937Z",
     "iopub.status.idle": "2021-09-16T13:06:03.153906Z",
     "shell.execute_reply": "2021-09-16T13:06:03.154411Z",
     "shell.execute_reply.started": "2021-09-16T12:57:19.980486Z"
    },
    "papermill": {
     "duration": 0.125333,
     "end_time": "2021-09-16T13:06:03.154609",
     "exception": false,
     "start_time": "2021-09-16T13:06:03.029276",
     "status": "completed"
    },
    "tags": []
   },
   "outputs": [
    {
     "data": {
      "text/html": [
       "<div>\n",
       "<style scoped>\n",
       "    .dataframe tbody tr th:only-of-type {\n",
       "        vertical-align: middle;\n",
       "    }\n",
       "\n",
       "    .dataframe tbody tr th {\n",
       "        vertical-align: top;\n",
       "    }\n",
       "\n",
       "    .dataframe thead th {\n",
       "        text-align: right;\n",
       "    }\n",
       "</style>\n",
       "<table border=\"1\" class=\"dataframe\">\n",
       "  <thead>\n",
       "    <tr style=\"text-align: right;\">\n",
       "      <th></th>\n",
       "      <th>enrollee_id</th>\n",
       "      <th>gender</th>\n",
       "      <th>enrolled_university</th>\n",
       "      <th>education_level</th>\n",
       "      <th>major_discipline</th>\n",
       "      <th>experience</th>\n",
       "      <th>company_size</th>\n",
       "      <th>company_type</th>\n",
       "      <th>last_new_job</th>\n",
       "      <th>age</th>\n",
       "      <th>city</th>\n",
       "      <th>city_development_index</th>\n",
       "      <th>relevent_experience</th>\n",
       "      <th>training_hours</th>\n",
       "      <th>target</th>\n",
       "    </tr>\n",
       "  </thead>\n",
       "  <tbody>\n",
       "    <tr>\n",
       "      <th>0</th>\n",
       "      <td>8949.0</td>\n",
       "      <td>0.0</td>\n",
       "      <td>0.0</td>\n",
       "      <td>0.0</td>\n",
       "      <td>0.0</td>\n",
       "      <td>0.0</td>\n",
       "      <td>2.0</td>\n",
       "      <td>0.0</td>\n",
       "      <td>0.0</td>\n",
       "      <td>0.0</td>\n",
       "      <td>0</td>\n",
       "      <td>0.920</td>\n",
       "      <td>0</td>\n",
       "      <td>36</td>\n",
       "      <td>1.0</td>\n",
       "    </tr>\n",
       "    <tr>\n",
       "      <th>1</th>\n",
       "      <td>29725.0</td>\n",
       "      <td>0.0</td>\n",
       "      <td>0.0</td>\n",
       "      <td>0.0</td>\n",
       "      <td>0.0</td>\n",
       "      <td>1.0</td>\n",
       "      <td>0.0</td>\n",
       "      <td>0.0</td>\n",
       "      <td>1.0</td>\n",
       "      <td>1.0</td>\n",
       "      <td>1</td>\n",
       "      <td>0.776</td>\n",
       "      <td>1</td>\n",
       "      <td>47</td>\n",
       "      <td>0.0</td>\n",
       "    </tr>\n",
       "    <tr>\n",
       "      <th>2</th>\n",
       "      <td>11561.0</td>\n",
       "      <td>0.0</td>\n",
       "      <td>1.0</td>\n",
       "      <td>0.0</td>\n",
       "      <td>0.0</td>\n",
       "      <td>2.0</td>\n",
       "      <td>3.0</td>\n",
       "      <td>0.0</td>\n",
       "      <td>2.0</td>\n",
       "      <td>2.0</td>\n",
       "      <td>2</td>\n",
       "      <td>0.624</td>\n",
       "      <td>1</td>\n",
       "      <td>83</td>\n",
       "      <td>0.0</td>\n",
       "    </tr>\n",
       "    <tr>\n",
       "      <th>3</th>\n",
       "      <td>33241.0</td>\n",
       "      <td>1.0</td>\n",
       "      <td>1.0</td>\n",
       "      <td>0.0</td>\n",
       "      <td>1.0</td>\n",
       "      <td>3.0</td>\n",
       "      <td>2.0</td>\n",
       "      <td>0.0</td>\n",
       "      <td>2.0</td>\n",
       "      <td>2.0</td>\n",
       "      <td>3</td>\n",
       "      <td>0.789</td>\n",
       "      <td>1</td>\n",
       "      <td>52</td>\n",
       "      <td>1.0</td>\n",
       "    </tr>\n",
       "    <tr>\n",
       "      <th>4</th>\n",
       "      <td>666.0</td>\n",
       "      <td>0.0</td>\n",
       "      <td>0.0</td>\n",
       "      <td>1.0</td>\n",
       "      <td>0.0</td>\n",
       "      <td>0.0</td>\n",
       "      <td>0.0</td>\n",
       "      <td>1.0</td>\n",
       "      <td>3.0</td>\n",
       "      <td>0.0</td>\n",
       "      <td>4</td>\n",
       "      <td>0.767</td>\n",
       "      <td>0</td>\n",
       "      <td>8</td>\n",
       "      <td>0.0</td>\n",
       "    </tr>\n",
       "    <tr>\n",
       "      <th>...</th>\n",
       "      <td>...</td>\n",
       "      <td>...</td>\n",
       "      <td>...</td>\n",
       "      <td>...</td>\n",
       "      <td>...</td>\n",
       "      <td>...</td>\n",
       "      <td>...</td>\n",
       "      <td>...</td>\n",
       "      <td>...</td>\n",
       "      <td>...</td>\n",
       "      <td>...</td>\n",
       "      <td>...</td>\n",
       "      <td>...</td>\n",
       "      <td>...</td>\n",
       "      <td>...</td>\n",
       "    </tr>\n",
       "    <tr>\n",
       "      <th>19153</th>\n",
       "      <td>7386.0</td>\n",
       "      <td>0.0</td>\n",
       "      <td>0.0</td>\n",
       "      <td>0.0</td>\n",
       "      <td>3.0</td>\n",
       "      <td>13.0</td>\n",
       "      <td>4.0</td>\n",
       "      <td>0.0</td>\n",
       "      <td>0.0</td>\n",
       "      <td>1.0</td>\n",
       "      <td>35</td>\n",
       "      <td>0.878</td>\n",
       "      <td>1</td>\n",
       "      <td>42</td>\n",
       "      <td>1.0</td>\n",
       "    </tr>\n",
       "    <tr>\n",
       "      <th>19154</th>\n",
       "      <td>31398.0</td>\n",
       "      <td>0.0</td>\n",
       "      <td>0.0</td>\n",
       "      <td>0.0</td>\n",
       "      <td>0.0</td>\n",
       "      <td>13.0</td>\n",
       "      <td>3.0</td>\n",
       "      <td>0.0</td>\n",
       "      <td>3.0</td>\n",
       "      <td>1.0</td>\n",
       "      <td>0</td>\n",
       "      <td>0.920</td>\n",
       "      <td>0</td>\n",
       "      <td>52</td>\n",
       "      <td>1.0</td>\n",
       "    </tr>\n",
       "    <tr>\n",
       "      <th>19155</th>\n",
       "      <td>24576.0</td>\n",
       "      <td>0.0</td>\n",
       "      <td>0.0</td>\n",
       "      <td>0.0</td>\n",
       "      <td>0.0</td>\n",
       "      <td>0.0</td>\n",
       "      <td>0.0</td>\n",
       "      <td>0.0</td>\n",
       "      <td>3.0</td>\n",
       "      <td>0.0</td>\n",
       "      <td>0</td>\n",
       "      <td>0.920</td>\n",
       "      <td>0</td>\n",
       "      <td>44</td>\n",
       "      <td>0.0</td>\n",
       "    </tr>\n",
       "    <tr>\n",
       "      <th>19156</th>\n",
       "      <td>5756.0</td>\n",
       "      <td>0.0</td>\n",
       "      <td>0.0</td>\n",
       "      <td>2.0</td>\n",
       "      <td>0.0</td>\n",
       "      <td>3.0</td>\n",
       "      <td>7.0</td>\n",
       "      <td>0.0</td>\n",
       "      <td>5.0</td>\n",
       "      <td>3.0</td>\n",
       "      <td>33</td>\n",
       "      <td>0.802</td>\n",
       "      <td>0</td>\n",
       "      <td>97</td>\n",
       "      <td>0.0</td>\n",
       "    </tr>\n",
       "    <tr>\n",
       "      <th>19157</th>\n",
       "      <td>23834.0</td>\n",
       "      <td>0.0</td>\n",
       "      <td>0.0</td>\n",
       "      <td>4.0</td>\n",
       "      <td>0.0</td>\n",
       "      <td>8.0</td>\n",
       "      <td>4.0</td>\n",
       "      <td>2.0</td>\n",
       "      <td>0.0</td>\n",
       "      <td>3.0</td>\n",
       "      <td>13</td>\n",
       "      <td>0.855</td>\n",
       "      <td>1</td>\n",
       "      <td>127</td>\n",
       "      <td>0.0</td>\n",
       "    </tr>\n",
       "  </tbody>\n",
       "</table>\n",
       "<p>19158 rows × 15 columns</p>\n",
       "</div>"
      ],
      "text/plain": [
       "       enrollee_id  gender  enrolled_university  education_level  \\\n",
       "0           8949.0     0.0                  0.0              0.0   \n",
       "1          29725.0     0.0                  0.0              0.0   \n",
       "2          11561.0     0.0                  1.0              0.0   \n",
       "3          33241.0     1.0                  1.0              0.0   \n",
       "4            666.0     0.0                  0.0              1.0   \n",
       "...            ...     ...                  ...              ...   \n",
       "19153       7386.0     0.0                  0.0              0.0   \n",
       "19154      31398.0     0.0                  0.0              0.0   \n",
       "19155      24576.0     0.0                  0.0              0.0   \n",
       "19156       5756.0     0.0                  0.0              2.0   \n",
       "19157      23834.0     0.0                  0.0              4.0   \n",
       "\n",
       "       major_discipline  experience  company_size  company_type  last_new_job  \\\n",
       "0                   0.0         0.0           2.0           0.0           0.0   \n",
       "1                   0.0         1.0           0.0           0.0           1.0   \n",
       "2                   0.0         2.0           3.0           0.0           2.0   \n",
       "3                   1.0         3.0           2.0           0.0           2.0   \n",
       "4                   0.0         0.0           0.0           1.0           3.0   \n",
       "...                 ...         ...           ...           ...           ...   \n",
       "19153               3.0        13.0           4.0           0.0           0.0   \n",
       "19154               0.0        13.0           3.0           0.0           3.0   \n",
       "19155               0.0         0.0           0.0           0.0           3.0   \n",
       "19156               0.0         3.0           7.0           0.0           5.0   \n",
       "19157               0.0         8.0           4.0           2.0           0.0   \n",
       "\n",
       "       age  city  city_development_index  relevent_experience  training_hours  \\\n",
       "0      0.0     0                   0.920                    0              36   \n",
       "1      1.0     1                   0.776                    1              47   \n",
       "2      2.0     2                   0.624                    1              83   \n",
       "3      2.0     3                   0.789                    1              52   \n",
       "4      0.0     4                   0.767                    0               8   \n",
       "...    ...   ...                     ...                  ...             ...   \n",
       "19153  1.0    35                   0.878                    1              42   \n",
       "19154  1.0     0                   0.920                    0              52   \n",
       "19155  0.0     0                   0.920                    0              44   \n",
       "19156  3.0    33                   0.802                    0              97   \n",
       "19157  3.0    13                   0.855                    1             127   \n",
       "\n",
       "       target  \n",
       "0         1.0  \n",
       "1         0.0  \n",
       "2         0.0  \n",
       "3         1.0  \n",
       "4         0.0  \n",
       "...       ...  \n",
       "19153     1.0  \n",
       "19154     1.0  \n",
       "19155     0.0  \n",
       "19156     0.0  \n",
       "19157     0.0  \n",
       "\n",
       "[19158 rows x 15 columns]"
      ]
     },
     "execution_count": 32,
     "metadata": {},
     "output_type": "execute_result"
    }
   ],
   "source": [
    "train"
   ]
  },
  {
   "cell_type": "markdown",
   "metadata": {
    "papermill": {
     "duration": 0.090378,
     "end_time": "2021-09-16T13:06:03.337235",
     "exception": false,
     "start_time": "2021-09-16T13:06:03.246857",
     "status": "completed"
    },
    "tags": []
   },
   "source": [
    "# Testing Data"
   ]
  },
  {
   "cell_type": "code",
   "execution_count": 33,
   "metadata": {
    "execution": {
     "iopub.execute_input": "2021-09-16T13:06:03.527052Z",
     "iopub.status.busy": "2021-09-16T13:06:03.526359Z",
     "iopub.status.idle": "2021-09-16T13:06:03.542117Z",
     "shell.execute_reply": "2021-09-16T13:06:03.542619Z",
     "shell.execute_reply.started": "2021-09-16T12:57:20.022398Z"
    },
    "papermill": {
     "duration": 0.116001,
     "end_time": "2021-09-16T13:06:03.542811",
     "exception": false,
     "start_time": "2021-09-16T13:06:03.426810",
     "status": "completed"
    },
    "tags": []
   },
   "outputs": [
    {
     "data": {
      "text/html": [
       "<div>\n",
       "<style scoped>\n",
       "    .dataframe tbody tr th:only-of-type {\n",
       "        vertical-align: middle;\n",
       "    }\n",
       "\n",
       "    .dataframe tbody tr th {\n",
       "        vertical-align: top;\n",
       "    }\n",
       "\n",
       "    .dataframe thead th {\n",
       "        text-align: right;\n",
       "    }\n",
       "</style>\n",
       "<table border=\"1\" class=\"dataframe\">\n",
       "  <thead>\n",
       "    <tr style=\"text-align: right;\">\n",
       "      <th></th>\n",
       "      <th>enrollee_id</th>\n",
       "      <th>city</th>\n",
       "      <th>city_development_index</th>\n",
       "      <th>gender</th>\n",
       "      <th>relevent_experience</th>\n",
       "      <th>enrolled_university</th>\n",
       "      <th>education_level</th>\n",
       "      <th>major_discipline</th>\n",
       "      <th>experience</th>\n",
       "      <th>company_size</th>\n",
       "      <th>company_type</th>\n",
       "      <th>last_new_job</th>\n",
       "      <th>training_hours</th>\n",
       "    </tr>\n",
       "  </thead>\n",
       "  <tbody>\n",
       "    <tr>\n",
       "      <th>0</th>\n",
       "      <td>32403</td>\n",
       "      <td>city_41</td>\n",
       "      <td>0.827</td>\n",
       "      <td>Male</td>\n",
       "      <td>Has relevent experience</td>\n",
       "      <td>Full time course</td>\n",
       "      <td>Graduate</td>\n",
       "      <td>STEM</td>\n",
       "      <td>9</td>\n",
       "      <td>&lt;10</td>\n",
       "      <td>NaN</td>\n",
       "      <td>1</td>\n",
       "      <td>21</td>\n",
       "    </tr>\n",
       "    <tr>\n",
       "      <th>1</th>\n",
       "      <td>9858</td>\n",
       "      <td>city_103</td>\n",
       "      <td>0.920</td>\n",
       "      <td>Female</td>\n",
       "      <td>Has relevent experience</td>\n",
       "      <td>no_enrollment</td>\n",
       "      <td>Graduate</td>\n",
       "      <td>STEM</td>\n",
       "      <td>5</td>\n",
       "      <td>NaN</td>\n",
       "      <td>Pvt Ltd</td>\n",
       "      <td>1</td>\n",
       "      <td>98</td>\n",
       "    </tr>\n",
       "    <tr>\n",
       "      <th>2</th>\n",
       "      <td>31806</td>\n",
       "      <td>city_21</td>\n",
       "      <td>0.624</td>\n",
       "      <td>Male</td>\n",
       "      <td>No relevent experience</td>\n",
       "      <td>no_enrollment</td>\n",
       "      <td>High School</td>\n",
       "      <td>NaN</td>\n",
       "      <td>&lt;1</td>\n",
       "      <td>NaN</td>\n",
       "      <td>Pvt Ltd</td>\n",
       "      <td>never</td>\n",
       "      <td>15</td>\n",
       "    </tr>\n",
       "    <tr>\n",
       "      <th>3</th>\n",
       "      <td>27385</td>\n",
       "      <td>city_13</td>\n",
       "      <td>0.827</td>\n",
       "      <td>Male</td>\n",
       "      <td>Has relevent experience</td>\n",
       "      <td>no_enrollment</td>\n",
       "      <td>Masters</td>\n",
       "      <td>STEM</td>\n",
       "      <td>11</td>\n",
       "      <td>10/49</td>\n",
       "      <td>Pvt Ltd</td>\n",
       "      <td>1</td>\n",
       "      <td>39</td>\n",
       "    </tr>\n",
       "    <tr>\n",
       "      <th>4</th>\n",
       "      <td>27724</td>\n",
       "      <td>city_103</td>\n",
       "      <td>0.920</td>\n",
       "      <td>Male</td>\n",
       "      <td>Has relevent experience</td>\n",
       "      <td>no_enrollment</td>\n",
       "      <td>Graduate</td>\n",
       "      <td>STEM</td>\n",
       "      <td>&gt;20</td>\n",
       "      <td>10000+</td>\n",
       "      <td>Pvt Ltd</td>\n",
       "      <td>&gt;4</td>\n",
       "      <td>72</td>\n",
       "    </tr>\n",
       "  </tbody>\n",
       "</table>\n",
       "</div>"
      ],
      "text/plain": [
       "   enrollee_id      city  city_development_index  gender  \\\n",
       "0        32403   city_41                   0.827    Male   \n",
       "1         9858  city_103                   0.920  Female   \n",
       "2        31806   city_21                   0.624    Male   \n",
       "3        27385   city_13                   0.827    Male   \n",
       "4        27724  city_103                   0.920    Male   \n",
       "\n",
       "       relevent_experience enrolled_university education_level  \\\n",
       "0  Has relevent experience    Full time course        Graduate   \n",
       "1  Has relevent experience       no_enrollment        Graduate   \n",
       "2   No relevent experience       no_enrollment     High School   \n",
       "3  Has relevent experience       no_enrollment         Masters   \n",
       "4  Has relevent experience       no_enrollment        Graduate   \n",
       "\n",
       "  major_discipline experience company_size company_type last_new_job  \\\n",
       "0             STEM          9          <10          NaN            1   \n",
       "1             STEM          5          NaN      Pvt Ltd            1   \n",
       "2              NaN         <1          NaN      Pvt Ltd        never   \n",
       "3             STEM         11        10/49      Pvt Ltd            1   \n",
       "4             STEM        >20       10000+      Pvt Ltd           >4   \n",
       "\n",
       "   training_hours  \n",
       "0              21  \n",
       "1              98  \n",
       "2              15  \n",
       "3              39  \n",
       "4              72  "
      ]
     },
     "execution_count": 33,
     "metadata": {},
     "output_type": "execute_result"
    }
   ],
   "source": [
    "raw_test.head()"
   ]
  },
  {
   "cell_type": "code",
   "execution_count": 34,
   "metadata": {
    "execution": {
     "iopub.execute_input": "2021-09-16T13:06:03.736405Z",
     "iopub.status.busy": "2021-09-16T13:06:03.735729Z",
     "iopub.status.idle": "2021-09-16T13:06:03.784341Z",
     "shell.execute_reply": "2021-09-16T13:06:03.784882Z",
     "shell.execute_reply.started": "2021-09-16T12:57:20.045617Z"
    },
    "papermill": {
     "duration": 0.142672,
     "end_time": "2021-09-16T13:06:03.785087",
     "exception": false,
     "start_time": "2021-09-16T13:06:03.642415",
     "status": "completed"
    },
    "tags": []
   },
   "outputs": [],
   "source": [
    "raw_test['age'] = raw_test.apply(lambda row: get_age_category(row['experience'], row['education_level']), axis=1)"
   ]
  },
  {
   "cell_type": "code",
   "execution_count": 35,
   "metadata": {
    "execution": {
     "iopub.execute_input": "2021-09-16T13:06:03.975494Z",
     "iopub.status.busy": "2021-09-16T13:06:03.974611Z",
     "iopub.status.idle": "2021-09-16T13:06:03.981271Z",
     "shell.execute_reply": "2021-09-16T13:06:03.981743Z",
     "shell.execute_reply.started": "2021-09-16T12:57:20.104527Z"
    },
    "papermill": {
     "duration": 0.104774,
     "end_time": "2021-09-16T13:06:03.981948",
     "exception": false,
     "start_time": "2021-09-16T13:06:03.877174",
     "status": "completed"
    },
    "tags": []
   },
   "outputs": [
    {
     "data": {
      "text/plain": [
       "Adult     819\n",
       "Old       561\n",
       "Middle    515\n",
       "Young     113\n",
       "Name: age, dtype: int64"
      ]
     },
     "execution_count": 35,
     "metadata": {},
     "output_type": "execute_result"
    }
   ],
   "source": [
    "raw_test.age.value_counts()"
   ]
  },
  {
   "cell_type": "code",
   "execution_count": 36,
   "metadata": {
    "execution": {
     "iopub.execute_input": "2021-09-16T13:06:04.177189Z",
     "iopub.status.busy": "2021-09-16T13:06:04.169329Z",
     "iopub.status.idle": "2021-09-16T13:06:04.218696Z",
     "shell.execute_reply": "2021-09-16T13:06:04.218163Z",
     "shell.execute_reply.started": "2021-09-16T12:57:20.115892Z"
    },
    "papermill": {
     "duration": 0.143661,
     "end_time": "2021-09-16T13:06:04.218867",
     "exception": false,
     "start_time": "2021-09-16T13:06:04.075206",
     "status": "completed"
    },
    "tags": []
   },
   "outputs": [
    {
     "data": {
      "text/html": [
       "<div>\n",
       "<style scoped>\n",
       "    .dataframe tbody tr th:only-of-type {\n",
       "        vertical-align: middle;\n",
       "    }\n",
       "\n",
       "    .dataframe tbody tr th {\n",
       "        vertical-align: top;\n",
       "    }\n",
       "\n",
       "    .dataframe thead th {\n",
       "        text-align: right;\n",
       "    }\n",
       "</style>\n",
       "<table border=\"1\" class=\"dataframe\">\n",
       "  <thead>\n",
       "    <tr style=\"text-align: right;\">\n",
       "      <th></th>\n",
       "      <th>enrollee_id</th>\n",
       "      <th>city</th>\n",
       "      <th>city_development_index</th>\n",
       "      <th>gender</th>\n",
       "      <th>relevent_experience</th>\n",
       "      <th>enrolled_university</th>\n",
       "      <th>education_level</th>\n",
       "      <th>major_discipline</th>\n",
       "      <th>experience</th>\n",
       "      <th>company_size</th>\n",
       "      <th>company_type</th>\n",
       "      <th>last_new_job</th>\n",
       "      <th>training_hours</th>\n",
       "      <th>age</th>\n",
       "    </tr>\n",
       "  </thead>\n",
       "  <tbody>\n",
       "    <tr>\n",
       "      <th>0</th>\n",
       "      <td>32403</td>\n",
       "      <td>24</td>\n",
       "      <td>0.827</td>\n",
       "      <td>0.0</td>\n",
       "      <td>0</td>\n",
       "      <td>1.0</td>\n",
       "      <td>0.0</td>\n",
       "      <td>0.0</td>\n",
       "      <td>19.0</td>\n",
       "      <td>1.0</td>\n",
       "      <td>NaN</td>\n",
       "      <td>0.0</td>\n",
       "      <td>21</td>\n",
       "      <td>1.0</td>\n",
       "    </tr>\n",
       "    <tr>\n",
       "      <th>1</th>\n",
       "      <td>9858</td>\n",
       "      <td>0</td>\n",
       "      <td>0.920</td>\n",
       "      <td>1.0</td>\n",
       "      <td>0</td>\n",
       "      <td>0.0</td>\n",
       "      <td>0.0</td>\n",
       "      <td>0.0</td>\n",
       "      <td>2.0</td>\n",
       "      <td>NaN</td>\n",
       "      <td>0.0</td>\n",
       "      <td>0.0</td>\n",
       "      <td>98</td>\n",
       "      <td>2.0</td>\n",
       "    </tr>\n",
       "    <tr>\n",
       "      <th>2</th>\n",
       "      <td>31806</td>\n",
       "      <td>2</td>\n",
       "      <td>0.624</td>\n",
       "      <td>0.0</td>\n",
       "      <td>1</td>\n",
       "      <td>0.0</td>\n",
       "      <td>2.0</td>\n",
       "      <td>NaN</td>\n",
       "      <td>3.0</td>\n",
       "      <td>NaN</td>\n",
       "      <td>0.0</td>\n",
       "      <td>2.0</td>\n",
       "      <td>15</td>\n",
       "      <td>3.0</td>\n",
       "    </tr>\n",
       "    <tr>\n",
       "      <th>3</th>\n",
       "      <td>27385</td>\n",
       "      <td>10</td>\n",
       "      <td>0.827</td>\n",
       "      <td>0.0</td>\n",
       "      <td>0</td>\n",
       "      <td>0.0</td>\n",
       "      <td>1.0</td>\n",
       "      <td>0.0</td>\n",
       "      <td>4.0</td>\n",
       "      <td>5.0</td>\n",
       "      <td>0.0</td>\n",
       "      <td>0.0</td>\n",
       "      <td>39</td>\n",
       "      <td>1.0</td>\n",
       "    </tr>\n",
       "    <tr>\n",
       "      <th>4</th>\n",
       "      <td>27724</td>\n",
       "      <td>0</td>\n",
       "      <td>0.920</td>\n",
       "      <td>0.0</td>\n",
       "      <td>0</td>\n",
       "      <td>0.0</td>\n",
       "      <td>0.0</td>\n",
       "      <td>0.0</td>\n",
       "      <td>0.0</td>\n",
       "      <td>2.0</td>\n",
       "      <td>0.0</td>\n",
       "      <td>1.0</td>\n",
       "      <td>72</td>\n",
       "      <td>0.0</td>\n",
       "    </tr>\n",
       "    <tr>\n",
       "      <th>...</th>\n",
       "      <td>...</td>\n",
       "      <td>...</td>\n",
       "      <td>...</td>\n",
       "      <td>...</td>\n",
       "      <td>...</td>\n",
       "      <td>...</td>\n",
       "      <td>...</td>\n",
       "      <td>...</td>\n",
       "      <td>...</td>\n",
       "      <td>...</td>\n",
       "      <td>...</td>\n",
       "      <td>...</td>\n",
       "      <td>...</td>\n",
       "      <td>...</td>\n",
       "    </tr>\n",
       "    <tr>\n",
       "      <th>2124</th>\n",
       "      <td>1289</td>\n",
       "      <td>0</td>\n",
       "      <td>0.920</td>\n",
       "      <td>0.0</td>\n",
       "      <td>1</td>\n",
       "      <td>0.0</td>\n",
       "      <td>0.0</td>\n",
       "      <td>3.0</td>\n",
       "      <td>9.0</td>\n",
       "      <td>NaN</td>\n",
       "      <td>4.0</td>\n",
       "      <td>3.0</td>\n",
       "      <td>15</td>\n",
       "      <td>0.0</td>\n",
       "    </tr>\n",
       "    <tr>\n",
       "      <th>2125</th>\n",
       "      <td>195</td>\n",
       "      <td>36</td>\n",
       "      <td>0.897</td>\n",
       "      <td>0.0</td>\n",
       "      <td>0</td>\n",
       "      <td>0.0</td>\n",
       "      <td>1.0</td>\n",
       "      <td>0.0</td>\n",
       "      <td>14.0</td>\n",
       "      <td>NaN</td>\n",
       "      <td>NaN</td>\n",
       "      <td>5.0</td>\n",
       "      <td>30</td>\n",
       "      <td>0.0</td>\n",
       "    </tr>\n",
       "    <tr>\n",
       "      <th>2126</th>\n",
       "      <td>31762</td>\n",
       "      <td>14</td>\n",
       "      <td>0.887</td>\n",
       "      <td>0.0</td>\n",
       "      <td>1</td>\n",
       "      <td>0.0</td>\n",
       "      <td>4.0</td>\n",
       "      <td>NaN</td>\n",
       "      <td>17.0</td>\n",
       "      <td>NaN</td>\n",
       "      <td>0.0</td>\n",
       "      <td>2.0</td>\n",
       "      <td>18</td>\n",
       "      <td>3.0</td>\n",
       "    </tr>\n",
       "    <tr>\n",
       "      <th>2127</th>\n",
       "      <td>7873</td>\n",
       "      <td>12</td>\n",
       "      <td>0.804</td>\n",
       "      <td>0.0</td>\n",
       "      <td>0</td>\n",
       "      <td>1.0</td>\n",
       "      <td>2.0</td>\n",
       "      <td>NaN</td>\n",
       "      <td>6.0</td>\n",
       "      <td>6.0</td>\n",
       "      <td>4.0</td>\n",
       "      <td>0.0</td>\n",
       "      <td>84</td>\n",
       "      <td>NaN</td>\n",
       "    </tr>\n",
       "    <tr>\n",
       "      <th>2128</th>\n",
       "      <td>12215</td>\n",
       "      <td>12</td>\n",
       "      <td>0.804</td>\n",
       "      <td>0.0</td>\n",
       "      <td>0</td>\n",
       "      <td>0.0</td>\n",
       "      <td>1.0</td>\n",
       "      <td>0.0</td>\n",
       "      <td>1.0</td>\n",
       "      <td>2.0</td>\n",
       "      <td>0.0</td>\n",
       "      <td>5.0</td>\n",
       "      <td>11</td>\n",
       "      <td>1.0</td>\n",
       "    </tr>\n",
       "  </tbody>\n",
       "</table>\n",
       "<p>2129 rows × 14 columns</p>\n",
       "</div>"
      ],
      "text/plain": [
       "      enrollee_id  city  city_development_index  gender  relevent_experience  \\\n",
       "0           32403    24                   0.827     0.0                    0   \n",
       "1            9858     0                   0.920     1.0                    0   \n",
       "2           31806     2                   0.624     0.0                    1   \n",
       "3           27385    10                   0.827     0.0                    0   \n",
       "4           27724     0                   0.920     0.0                    0   \n",
       "...           ...   ...                     ...     ...                  ...   \n",
       "2124         1289     0                   0.920     0.0                    1   \n",
       "2125          195    36                   0.897     0.0                    0   \n",
       "2126        31762    14                   0.887     0.0                    1   \n",
       "2127         7873    12                   0.804     0.0                    0   \n",
       "2128        12215    12                   0.804     0.0                    0   \n",
       "\n",
       "      enrolled_university  education_level  major_discipline  experience  \\\n",
       "0                     1.0              0.0               0.0        19.0   \n",
       "1                     0.0              0.0               0.0         2.0   \n",
       "2                     0.0              2.0               NaN         3.0   \n",
       "3                     0.0              1.0               0.0         4.0   \n",
       "4                     0.0              0.0               0.0         0.0   \n",
       "...                   ...              ...               ...         ...   \n",
       "2124                  0.0              0.0               3.0         9.0   \n",
       "2125                  0.0              1.0               0.0        14.0   \n",
       "2126                  0.0              4.0               NaN        17.0   \n",
       "2127                  1.0              2.0               NaN         6.0   \n",
       "2128                  0.0              1.0               0.0         1.0   \n",
       "\n",
       "      company_size  company_type  last_new_job  training_hours  age  \n",
       "0              1.0           NaN           0.0              21  1.0  \n",
       "1              NaN           0.0           0.0              98  2.0  \n",
       "2              NaN           0.0           2.0              15  3.0  \n",
       "3              5.0           0.0           0.0              39  1.0  \n",
       "4              2.0           0.0           1.0              72  0.0  \n",
       "...            ...           ...           ...             ...  ...  \n",
       "2124           NaN           4.0           3.0              15  0.0  \n",
       "2125           NaN           NaN           5.0              30  0.0  \n",
       "2126           NaN           0.0           2.0              18  3.0  \n",
       "2127           6.0           4.0           0.0              84  NaN  \n",
       "2128           2.0           0.0           5.0              11  1.0  \n",
       "\n",
       "[2129 rows x 14 columns]"
      ]
     },
     "execution_count": 36,
     "metadata": {},
     "output_type": "execute_result"
    }
   ],
   "source": [
    "for key in cols:\n",
    "    raw_test[key] = raw_test[key].map(_dict[key]) \n",
    "\n",
    "\n",
    "raw_test"
   ]
  },
  {
   "cell_type": "code",
   "execution_count": 37,
   "metadata": {
    "execution": {
     "iopub.execute_input": "2021-09-16T13:06:04.468841Z",
     "iopub.status.busy": "2021-09-16T13:06:04.468077Z",
     "iopub.status.idle": "2021-09-16T13:06:04.473418Z",
     "shell.execute_reply": "2021-09-16T13:06:04.474336Z",
     "shell.execute_reply.started": "2021-09-16T12:57:20.170552Z"
    },
    "papermill": {
     "duration": 0.163872,
     "end_time": "2021-09-16T13:06:04.475569",
     "exception": false,
     "start_time": "2021-09-16T13:06:04.311697",
     "status": "completed"
    },
    "tags": []
   },
   "outputs": [
    {
     "name": "stdout",
     "output_type": "stream",
     "text": [
      "Any missing sample in test set: True \n",
      "\n"
     ]
    }
   ],
   "source": [
    "print(\"Any missing sample in test set:\",raw_test.isnull().values.any(), \"\\n\")"
   ]
  },
  {
   "cell_type": "code",
   "execution_count": 38,
   "metadata": {
    "execution": {
     "iopub.execute_input": "2021-09-16T13:06:04.865309Z",
     "iopub.status.busy": "2021-09-16T13:06:04.864504Z",
     "iopub.status.idle": "2021-09-16T13:06:04.879645Z",
     "shell.execute_reply": "2021-09-16T13:06:04.878898Z",
     "shell.execute_reply.started": "2021-09-16T12:57:20.179010Z"
    },
    "papermill": {
     "duration": 0.186777,
     "end_time": "2021-09-16T13:06:04.879830",
     "exception": false,
     "start_time": "2021-09-16T13:06:04.693053",
     "status": "completed"
    },
    "tags": []
   },
   "outputs": [
    {
     "data": {
      "text/plain": [
       "gender                 23.860968\n",
       "enrolled_university     1.456083\n",
       "education_level         2.442461\n",
       "major_discipline       14.654767\n",
       "experience              0.234852\n",
       "company_size           29.215594\n",
       "company_type           29.779239\n",
       "last_new_job            1.878816\n",
       "age                     5.683419\n",
       "dtype: float64"
      ]
     },
     "execution_count": 38,
     "metadata": {},
     "output_type": "execute_result"
    }
   ],
   "source": [
    "raw_test.isna().mean()[raw_test.isna().mean() > 0] * 100"
   ]
  },
  {
   "cell_type": "markdown",
   "metadata": {
    "papermill": {
     "duration": 0.092968,
     "end_time": "2021-09-16T13:06:05.067680",
     "exception": false,
     "start_time": "2021-09-16T13:06:04.974712",
     "status": "completed"
    },
    "tags": []
   },
   "source": [
    "I choose to use KNN method for defining missing values."
   ]
  },
  {
   "cell_type": "code",
   "execution_count": 39,
   "metadata": {
    "execution": {
     "iopub.execute_input": "2021-09-16T13:06:05.265872Z",
     "iopub.status.busy": "2021-09-16T13:06:05.263736Z",
     "iopub.status.idle": "2021-09-16T13:06:05.269347Z",
     "shell.execute_reply": "2021-09-16T13:06:05.268688Z",
     "shell.execute_reply.started": "2021-09-16T12:57:20.203176Z"
    },
    "papermill": {
     "duration": 0.10782,
     "end_time": "2021-09-16T13:06:05.269513",
     "exception": false,
     "start_time": "2021-09-16T13:06:05.161693",
     "status": "completed"
    },
    "tags": []
   },
   "outputs": [],
   "source": [
    "#dataframe having features with missing values\n",
    "df_missing_test = raw_test[['enrollee_id'] + missing_cols]\n",
    "\n",
    "#dataframe having features without missing values\n",
    "df_non_missing_test = raw_test.drop(missing_cols, axis = 1)"
   ]
  },
  {
   "cell_type": "code",
   "execution_count": 40,
   "metadata": {
    "execution": {
     "iopub.execute_input": "2021-09-16T13:06:05.465450Z",
     "iopub.status.busy": "2021-09-16T13:06:05.459044Z",
     "iopub.status.idle": "2021-09-16T13:06:05.680159Z",
     "shell.execute_reply": "2021-09-16T13:06:05.679450Z",
     "shell.execute_reply.started": "2021-09-16T12:57:20.211526Z"
    },
    "papermill": {
     "duration": 0.317475,
     "end_time": "2021-09-16T13:06:05.680347",
     "exception": false,
     "start_time": "2021-09-16T13:06:05.362872",
     "status": "completed"
    },
    "tags": []
   },
   "outputs": [],
   "source": [
    "knn = KNNImputer(n_neighbors = 3)\n",
    "X = np.round(knn.fit_transform(df_missing_test))\n",
    "df_missing_test = pd.DataFrame(X, columns = df_missing_test.columns)"
   ]
  },
  {
   "cell_type": "code",
   "execution_count": 41,
   "metadata": {
    "execution": {
     "iopub.execute_input": "2021-09-16T13:06:05.878813Z",
     "iopub.status.busy": "2021-09-16T13:06:05.877678Z",
     "iopub.status.idle": "2021-09-16T13:06:05.882983Z",
     "shell.execute_reply": "2021-09-16T13:06:05.882455Z",
     "shell.execute_reply.started": "2021-09-16T12:57:20.435844Z"
    },
    "papermill": {
     "duration": 0.108097,
     "end_time": "2021-09-16T13:06:05.883129",
     "exception": false,
     "start_time": "2021-09-16T13:06:05.775032",
     "status": "completed"
    },
    "tags": []
   },
   "outputs": [],
   "source": [
    "test = pd.merge(df_missing_test, df_non_missing_test, on = 'enrollee_id')"
   ]
  },
  {
   "cell_type": "code",
   "execution_count": 42,
   "metadata": {
    "execution": {
     "iopub.execute_input": "2021-09-16T13:06:06.076455Z",
     "iopub.status.busy": "2021-09-16T13:06:06.075722Z",
     "iopub.status.idle": "2021-09-16T13:06:06.083271Z",
     "shell.execute_reply": "2021-09-16T13:06:06.082586Z",
     "shell.execute_reply.started": "2021-09-16T12:57:20.448337Z"
    },
    "papermill": {
     "duration": 0.107011,
     "end_time": "2021-09-16T13:06:06.083436",
     "exception": false,
     "start_time": "2021-09-16T13:06:05.976425",
     "status": "completed"
    },
    "tags": []
   },
   "outputs": [
    {
     "name": "stdout",
     "output_type": "stream",
     "text": [
      "Any missing sample in train set: False \n",
      "\n",
      "Any missing sample in test set: False \n",
      "\n"
     ]
    }
   ],
   "source": [
    "print(\"Any missing sample in train set:\",train.isnull().values.any(), \"\\n\")\n",
    "print(\"Any missing sample in test set:\",test.isnull().values.any(), \"\\n\")\n"
   ]
  },
  {
   "cell_type": "markdown",
   "metadata": {
    "papermill": {
     "duration": 0.097065,
     "end_time": "2021-09-16T13:06:06.273592",
     "exception": false,
     "start_time": "2021-09-16T13:06:06.176527",
     "status": "completed"
    },
    "tags": []
   },
   "source": [
    "# Model"
   ]
  },
  {
   "cell_type": "code",
   "execution_count": 43,
   "metadata": {
    "execution": {
     "iopub.execute_input": "2021-09-16T13:06:06.467187Z",
     "iopub.status.busy": "2021-09-16T13:06:06.466288Z",
     "iopub.status.idle": "2021-09-16T13:06:06.475955Z",
     "shell.execute_reply": "2021-09-16T13:06:06.476514Z",
     "shell.execute_reply.started": "2021-09-16T12:57:20.463723Z"
    },
    "papermill": {
     "duration": 0.109583,
     "end_time": "2021-09-16T13:06:06.476702",
     "exception": false,
     "start_time": "2021-09-16T13:06:06.367119",
     "status": "completed"
    },
    "tags": []
   },
   "outputs": [],
   "source": [
    "from sklearn.model_selection import train_test_split\n",
    "y = train['target']\n",
    "X = train.drop(columns=['target', 'enrollee_id', 'city_development_index', 'training_hours'])\n",
    "X_train, X_val, y_train, y_val = train_test_split(X, y, test_size=0.15, random_state=9)\n"
   ]
  },
  {
   "cell_type": "code",
   "execution_count": 44,
   "metadata": {
    "execution": {
     "iopub.execute_input": "2021-09-16T13:06:06.672960Z",
     "iopub.status.busy": "2021-09-16T13:06:06.672228Z",
     "iopub.status.idle": "2021-09-16T13:06:07.382640Z",
     "shell.execute_reply": "2021-09-16T13:06:07.383314Z",
     "shell.execute_reply.started": "2021-09-16T12:57:20.480109Z"
    },
    "papermill": {
     "duration": 0.813464,
     "end_time": "2021-09-16T13:06:07.383544",
     "exception": false,
     "start_time": "2021-09-16T13:06:06.570080",
     "status": "completed"
    },
    "tags": []
   },
   "outputs": [
    {
     "name": "stdout",
     "output_type": "stream",
     "text": [
      "Model params:\n",
      "{'objective': 'binary:logistic', 'use_label_encoder': True, 'base_score': 0.5, 'booster': 'gbtree', 'colsample_bylevel': 1, 'colsample_bynode': 1, 'colsample_bytree': 1, 'gamma': 0, 'gpu_id': -1, 'importance_type': 'gain', 'interaction_constraints': '', 'learning_rate': 0.300000012, 'max_delta_step': 0, 'max_depth': 6, 'min_child_weight': 1, 'missing': nan, 'monotone_constraints': '()', 'n_estimators': 100, 'n_jobs': 4, 'num_parallel_tree': 1, 'random_state': 0, 'reg_alpha': 0, 'reg_lambda': 1, 'scale_pos_weight': 1, 'subsample': 1, 'tree_method': 'exact', 'validate_parameters': 1, 'verbosity': None}\n",
      "Train AUC Score 0.892646105949432\n",
      "Test AUC Score 0.762595090335819\n"
     ]
    }
   ],
   "source": [
    "from xgboost import XGBClassifier\n",
    "clf_XGB = XGBClassifier()\n",
    "\n",
    "clf_XGB.fit(X_train, y_train, eval_metric='logloss')\n",
    "\n",
    "y_train_pred = clf_XGB.predict_proba(X_train)\n",
    "y_train_pred_pos = y_train_pred[:,1]\n",
    "\n",
    "y_val_pred = clf_XGB.predict_proba(X_val)\n",
    "y_val_pred_pos = y_val_pred[:,1]\n",
    "\n",
    "auc_train = roc_auc_score(y_train, y_train_pred_pos)\n",
    "auc_test = roc_auc_score(y_val, y_val_pred_pos)\n",
    "\n",
    "\n",
    "print('Model params:')\n",
    "print(clf_XGB.get_params())\n",
    "print(f\"Train AUC Score {auc_train}\")\n",
    "print(f\"Test AUC Score {auc_test}\")\n",
    "\n",
    "fpr, tpr, _ = roc_curve(y_val, y_val_pred_pos)"
   ]
  },
  {
   "cell_type": "code",
   "execution_count": 45,
   "metadata": {
    "execution": {
     "iopub.execute_input": "2021-09-16T13:06:07.604068Z",
     "iopub.status.busy": "2021-09-16T13:06:07.598467Z",
     "iopub.status.idle": "2021-09-16T13:06:07.608538Z",
     "shell.execute_reply": "2021-09-16T13:06:07.607992Z",
     "shell.execute_reply.started": "2021-09-16T12:57:21.180917Z"
    },
    "papermill": {
     "duration": 0.119087,
     "end_time": "2021-09-16T13:06:07.608690",
     "exception": false,
     "start_time": "2021-09-16T13:06:07.489603",
     "status": "completed"
    },
    "tags": []
   },
   "outputs": [],
   "source": [
    "def get_scores(report_df, model, X_val, y_val, name):\n",
    "\n",
    "    report = pd.DataFrame(columns={'ROC-AUC'}, data=[0])\n",
    "    report['ROC-AUC'] = roc_auc_score(y_val,\n",
    "                                      model.predict_proba(X_val)[:, 1])\n",
    "    report['F1'] = f1_score(y_val, model.predict(X_val))\n",
    "    report['precision_0'] = precision_score(\n",
    "        y_val, model.predict(X_val), pos_label=0)\n",
    "    report['precision_1'] = precision_score(\n",
    "        y_val, model.predict(X_val), pos_label=1)\n",
    "    report['recall_0'] = recall_score(\n",
    "        y_val, model.predict(X_val), pos_label=0)\n",
    "    report['recall_1'] = recall_score(\n",
    "        y_val, model.predict(X_val), pos_label=1)\n",
    "\n",
    "    report.index = [name]\n",
    "    report_df = report_df.append(report)\n",
    "    return report_df\n"
   ]
  },
  {
   "cell_type": "code",
   "execution_count": 46,
   "metadata": {
    "execution": {
     "iopub.execute_input": "2021-09-16T13:06:07.819920Z",
     "iopub.status.busy": "2021-09-16T13:06:07.819051Z",
     "iopub.status.idle": "2021-09-16T13:06:07.882142Z",
     "shell.execute_reply": "2021-09-16T13:06:07.882805Z",
     "shell.execute_reply.started": "2021-09-16T12:57:21.190130Z"
    },
    "papermill": {
     "duration": 0.179985,
     "end_time": "2021-09-16T13:06:07.883015",
     "exception": false,
     "start_time": "2021-09-16T13:06:07.703030",
     "status": "completed"
    },
    "tags": []
   },
   "outputs": [],
   "source": [
    "df_report = pd.DataFrame()\n",
    "df_report = get_scores(df_report, clf_XGB, X_val,\n",
    "                       y_val, 'XGBClassifier KNN')"
   ]
  },
  {
   "cell_type": "code",
   "execution_count": 47,
   "metadata": {
    "execution": {
     "iopub.execute_input": "2021-09-16T13:06:08.098794Z",
     "iopub.status.busy": "2021-09-16T13:06:08.097886Z",
     "iopub.status.idle": "2021-09-16T13:06:08.101568Z",
     "shell.execute_reply": "2021-09-16T13:06:08.102290Z",
     "shell.execute_reply.started": "2021-09-16T12:57:21.265367Z"
    },
    "papermill": {
     "duration": 0.120741,
     "end_time": "2021-09-16T13:06:08.102497",
     "exception": false,
     "start_time": "2021-09-16T13:06:07.981756",
     "status": "completed"
    },
    "tags": []
   },
   "outputs": [
    {
     "data": {
      "text/html": [
       "<div>\n",
       "<style scoped>\n",
       "    .dataframe tbody tr th:only-of-type {\n",
       "        vertical-align: middle;\n",
       "    }\n",
       "\n",
       "    .dataframe tbody tr th {\n",
       "        vertical-align: top;\n",
       "    }\n",
       "\n",
       "    .dataframe thead th {\n",
       "        text-align: right;\n",
       "    }\n",
       "</style>\n",
       "<table border=\"1\" class=\"dataframe\">\n",
       "  <thead>\n",
       "    <tr style=\"text-align: right;\">\n",
       "      <th></th>\n",
       "      <th>ROC-AUC</th>\n",
       "      <th>F1</th>\n",
       "      <th>precision_0</th>\n",
       "      <th>precision_1</th>\n",
       "      <th>recall_0</th>\n",
       "      <th>recall_1</th>\n",
       "    </tr>\n",
       "  </thead>\n",
       "  <tbody>\n",
       "    <tr>\n",
       "      <th>XGBClassifier KNN</th>\n",
       "      <td>0.762595</td>\n",
       "      <td>0.490895</td>\n",
       "      <td>0.812262</td>\n",
       "      <td>0.609037</td>\n",
       "      <td>0.906132</td>\n",
       "      <td>0.411141</td>\n",
       "    </tr>\n",
       "  </tbody>\n",
       "</table>\n",
       "</div>"
      ],
      "text/plain": [
       "                    ROC-AUC        F1  precision_0  precision_1  recall_0  \\\n",
       "XGBClassifier KNN  0.762595  0.490895     0.812262     0.609037  0.906132   \n",
       "\n",
       "                   recall_1  \n",
       "XGBClassifier KNN  0.411141  "
      ]
     },
     "execution_count": 47,
     "metadata": {},
     "output_type": "execute_result"
    }
   ],
   "source": [
    "df_report"
   ]
  },
  {
   "cell_type": "markdown",
   "metadata": {
    "papermill": {
     "duration": 0.099803,
     "end_time": "2021-09-16T13:06:08.305293",
     "exception": false,
     "start_time": "2021-09-16T13:06:08.205490",
     "status": "completed"
    },
    "tags": []
   },
   "source": [
    "As we can see model is overfitting the data, we can do various things to resolve this problem like we can increase data set size in balanced manner and we can also tune hyperparameters of model."
   ]
  },
  {
   "cell_type": "markdown",
   "metadata": {
    "papermill": {
     "duration": 0.100043,
     "end_time": "2021-09-16T13:06:08.501969",
     "exception": false,
     "start_time": "2021-09-16T13:06:08.401926",
     "status": "completed"
    },
    "tags": []
   },
   "source": [
    "Let's plot AUC Curve."
   ]
  },
  {
   "cell_type": "code",
   "execution_count": 48,
   "metadata": {
    "execution": {
     "iopub.execute_input": "2021-09-16T13:06:08.703521Z",
     "iopub.status.busy": "2021-09-16T13:06:08.702823Z",
     "iopub.status.idle": "2021-09-16T13:06:08.704863Z",
     "shell.execute_reply": "2021-09-16T13:06:08.705385Z",
     "shell.execute_reply.started": "2021-09-16T12:57:21.280767Z"
    },
    "papermill": {
     "duration": 0.10544,
     "end_time": "2021-09-16T13:06:08.705568",
     "exception": false,
     "start_time": "2021-09-16T13:06:08.600128",
     "status": "completed"
    },
    "tags": []
   },
   "outputs": [],
   "source": [
    "def plot_auc_curve(fpr, tpr, auc):\n",
    "    plt.figure(figsize = (16,6))\n",
    "    plt.plot(fpr,tpr,'b+',linestyle = '-')\n",
    "    plt.fill_between(fpr, tpr, alpha = 0.5)\n",
    "    plt.ylabel('True Postive Rate')\n",
    "    plt.xlabel('False Postive Rate')\n",
    "    plt.title(f'ROC Curve Having AUC = {auc}')"
   ]
  },
  {
   "cell_type": "code",
   "execution_count": 49,
   "metadata": {
    "execution": {
     "iopub.execute_input": "2021-09-16T13:06:08.918227Z",
     "iopub.status.busy": "2021-09-16T13:06:08.917515Z",
     "iopub.status.idle": "2021-09-16T13:06:09.180073Z",
     "shell.execute_reply": "2021-09-16T13:06:09.179493Z",
     "shell.execute_reply.started": "2021-09-16T12:57:21.293010Z"
    },
    "papermill": {
     "duration": 0.370579,
     "end_time": "2021-09-16T13:06:09.180228",
     "exception": false,
     "start_time": "2021-09-16T13:06:08.809649",
     "status": "completed"
    },
    "tags": []
   },
   "outputs": [
    {
     "data": {
      "image/png": "[encoded data removed]",
      "text/plain": [
       "<Figure size 1152x432 with 1 Axes>"
      ]
     },
     "metadata": {
      "needs_background": "light"
     },
     "output_type": "display_data"
    }
   ],
   "source": [
    "plot_auc_curve(fpr, tpr, auc_test)"
   ]
  },
  {
   "cell_type": "markdown",
   "metadata": {
    "papermill": {
     "duration": 0.095217,
     "end_time": "2021-09-16T13:06:09.373530",
     "exception": false,
     "start_time": "2021-09-16T13:06:09.278313",
     "status": "completed"
    },
    "tags": []
   },
   "source": [
    "# Learning curve"
   ]
  },
  {
   "cell_type": "markdown",
   "metadata": {
    "papermill": {
     "duration": 0.100773,
     "end_time": "2021-09-16T13:06:09.572056",
     "exception": false,
     "start_time": "2021-09-16T13:06:09.471283",
     "status": "completed"
    },
    "tags": []
   },
   "source": [
    "It is a tool to find out how much a machine model benefits from adding more training data and whether the estimator suffers more from a variance error or a bias error. If both the validation score and the training score converge to a value that is too low with increasing size of the training set, it will not benefit much from more training data."
   ]
  },
  {
   "cell_type": "code",
   "execution_count": 50,
   "metadata": {
    "execution": {
     "iopub.execute_input": "2021-09-16T13:06:09.859803Z",
     "iopub.status.busy": "2021-09-16T13:06:09.858667Z",
     "iopub.status.idle": "2021-09-16T13:06:09.860969Z",
     "shell.execute_reply": "2021-09-16T13:06:09.861445Z",
     "shell.execute_reply.started": "2021-09-16T12:57:21.573063Z"
    },
    "papermill": {
     "duration": 0.14306,
     "end_time": "2021-09-16T13:06:09.861627",
     "exception": false,
     "start_time": "2021-09-16T13:06:09.718567",
     "status": "completed"
    },
    "tags": []
   },
   "outputs": [],
   "source": [
    "# funtion to plot learning curves\n",
    "\n",
    "def plot_learning_cuve(model, X, Y):\n",
    "    \n",
    "    x_train, x_test, y_train, y_test = train_test_split(X, Y, test_size = 0.2, random_state = 11)\n",
    "    train_loss, test_loss = [], []\n",
    "    \n",
    "    for m in range(200,len(x_train),200):\n",
    "        \n",
    "        model.fit(x_train.iloc[:m,:], y_train[:m], eval_metric='logloss', verbose=False)\n",
    "        y_train_prob_pred = model.predict_proba(x_train.iloc[:m,:])\n",
    "        train_loss.append(log_loss(y_train[:m], y_train_prob_pred))\n",
    "        \n",
    "        y_test_prob_pred = model.predict_proba(x_test)\n",
    "        test_loss.append(log_loss(y_test, y_test_prob_pred))\n",
    "        \n",
    "    plt.figure(figsize = (15,8))\n",
    "    plt.plot(train_loss, 'r-+', label = 'Training Loss')\n",
    "    plt.plot(test_loss, 'b-', label = 'Test Loss')\n",
    "    plt.xlabel('Number Of Batches')\n",
    "    plt.ylabel('Log-Loss')\n",
    "    plt.legend(loc = 'best')\n",
    "\n",
    "\n",
    "\n",
    "    plt.show()"
   ]
  },
  {
   "cell_type": "code",
   "execution_count": 51,
   "metadata": {
    "execution": {
     "iopub.execute_input": "2021-09-16T13:06:10.058287Z",
     "iopub.status.busy": "2021-09-16T13:06:10.057596Z",
     "iopub.status.idle": "2021-09-16T13:06:41.441997Z",
     "shell.execute_reply": "2021-09-16T13:06:41.442533Z",
     "shell.execute_reply.started": "2021-09-16T12:57:21.584542Z"
    },
    "papermill": {
     "duration": 31.484699,
     "end_time": "2021-09-16T13:06:41.442719",
     "exception": false,
     "start_time": "2021-09-16T13:06:09.958020",
     "status": "completed"
    },
    "tags": []
   },
   "outputs": [
    {
     "data": {
      "image/png": "[encoded data removed]",
      "text/plain": [
       "<Figure size 1080x576 with 1 Axes>"
      ]
     },
     "metadata": {
      "needs_background": "light"
     },
     "output_type": "display_data"
    }
   ],
   "source": [
    "plot_learning_cuve(XGBClassifier(), X, y)"
   ]
  },
  {
   "cell_type": "markdown",
   "metadata": {
    "papermill": {
     "duration": 0.098641,
     "end_time": "2021-09-16T13:06:41.640045",
     "exception": false,
     "start_time": "2021-09-16T13:06:41.541404",
     "status": "completed"
    },
    "tags": []
   },
   "source": [
    "There is a high variance problem and I need to make more training data."
   ]
  },
  {
   "cell_type": "code",
   "execution_count": 52,
   "metadata": {
    "execution": {
     "iopub.execute_input": "2021-09-16T13:06:41.841143Z",
     "iopub.status.busy": "2021-09-16T13:06:41.840111Z",
     "iopub.status.idle": "2021-09-16T13:06:42.010891Z",
     "shell.execute_reply": "2021-09-16T13:06:42.010205Z",
     "shell.execute_reply.started": "2021-09-16T12:57:49.974803Z"
    },
    "papermill": {
     "duration": 0.27165,
     "end_time": "2021-09-16T13:06:42.011036",
     "exception": false,
     "start_time": "2021-09-16T13:06:41.739386",
     "status": "completed"
    },
    "tags": []
   },
   "outputs": [
    {
     "data": {
      "image/png": "[encoded data removed]",
      "text/plain": [
       "<Figure size 432x288 with 1 Axes>"
      ]
     },
     "metadata": {
      "needs_background": "light"
     },
     "output_type": "display_data"
    }
   ],
   "source": [
    "sns.countplot(y, edgecolor = 'black')\n",
    "plt.show()"
   ]
  },
  {
   "cell_type": "markdown",
   "metadata": {
    "papermill": {
     "duration": 0.097576,
     "end_time": "2021-09-16T13:06:42.207407",
     "exception": false,
     "start_time": "2021-09-16T13:06:42.109831",
     "status": "completed"
    },
    "tags": []
   },
   "source": [
    "Let's try to increase data in balanced manner using Synthetic Minority Oversampling Technique (SMOTE)"
   ]
  },
  {
   "cell_type": "markdown",
   "metadata": {
    "papermill": {
     "duration": 0.098175,
     "end_time": "2021-09-16T13:06:42.403532",
     "exception": false,
     "start_time": "2021-09-16T13:06:42.305357",
     "status": "completed"
    },
    "tags": []
   },
   "source": [
    "# Oversampling (SMOTE)"
   ]
  },
  {
   "cell_type": "code",
   "execution_count": 53,
   "metadata": {
    "execution": {
     "iopub.execute_input": "2021-09-16T13:06:42.624047Z",
     "iopub.status.busy": "2021-09-16T13:06:42.622999Z",
     "iopub.status.idle": "2021-09-16T13:06:42.889632Z",
     "shell.execute_reply": "2021-09-16T13:06:42.889074Z",
     "shell.execute_reply.started": "2021-09-16T12:57:50.175536Z"
    },
    "papermill": {
     "duration": 0.385434,
     "end_time": "2021-09-16T13:06:42.889813",
     "exception": false,
     "start_time": "2021-09-16T13:06:42.504379",
     "status": "completed"
    },
    "tags": []
   },
   "outputs": [
    {
     "data": {
      "image/png": "[encoded data removed]",
      "text/plain": [
       "<Figure size 432x288 with 1 Axes>"
      ]
     },
     "metadata": {
      "needs_background": "light"
     },
     "output_type": "display_data"
    }
   ],
   "source": [
    "from imblearn.over_sampling import SMOTE\n",
    "\n",
    "smote = SMOTE(random_state = 402)\n",
    "X_smote, y_smote = smote.fit_resample(X, y)\n",
    "\n",
    "\n",
    "sns.countplot(y_smote, edgecolor = 'black')\n",
    "plt.show()"
   ]
  },
  {
   "cell_type": "code",
   "execution_count": 54,
   "metadata": {
    "execution": {
     "iopub.execute_input": "2021-09-16T13:06:43.099551Z",
     "iopub.status.busy": "2021-09-16T13:06:43.098453Z",
     "iopub.status.idle": "2021-09-16T13:06:44.204825Z",
     "shell.execute_reply": "2021-09-16T13:06:44.203693Z",
     "shell.execute_reply.started": "2021-09-16T12:57:50.458667Z"
    },
    "papermill": {
     "duration": 1.216641,
     "end_time": "2021-09-16T13:06:44.205016",
     "exception": false,
     "start_time": "2021-09-16T13:06:42.988375",
     "status": "completed"
    },
    "tags": []
   },
   "outputs": [
    {
     "name": "stdout",
     "output_type": "stream",
     "text": [
      "Model params:\n",
      "{'objective': 'binary:logistic', 'use_label_encoder': True, 'base_score': 0.5, 'booster': 'gbtree', 'colsample_bylevel': 1, 'colsample_bynode': 1, 'colsample_bytree': 1, 'gamma': 0, 'gpu_id': -1, 'importance_type': 'gain', 'interaction_constraints': '', 'learning_rate': 0.300000012, 'max_delta_step': 0, 'max_depth': 6, 'min_child_weight': 1, 'missing': nan, 'monotone_constraints': '()', 'n_estimators': 100, 'n_jobs': 4, 'num_parallel_tree': 1, 'random_state': 0, 'reg_alpha': 0, 'reg_lambda': 1, 'scale_pos_weight': 1, 'subsample': 1, 'tree_method': 'exact', 'validate_parameters': 1, 'verbosity': None}\n",
      "Train AUC Score 0.9561158516977865\n",
      "Test AUC Score 0.9162515838289674\n"
     ]
    }
   ],
   "source": [
    "X_train, X_val, y_train, y_val = train_test_split(X_smote, y_smote, test_size = 0.2 ,random_state = 42)\n",
    "\n",
    "clf_XGB_smote = XGBClassifier()\n",
    "\n",
    "clf_XGB_smote.fit(X_train, y_train, eval_metric='logloss')\n",
    "\n",
    "y_train_pred = clf_XGB_smote.predict_proba(X_train)\n",
    "y_train_pred_pos = y_train_pred[:,1]\n",
    "\n",
    "y_val_pred = clf_XGB_smote.predict_proba(X_val)\n",
    "y_val_pred_pos = y_val_pred[:,1]\n",
    "\n",
    "auc_train = roc_auc_score(y_train, y_train_pred_pos)\n",
    "auc_test = roc_auc_score(y_val, y_val_pred_pos)\n",
    "\n",
    "fpr, tpr, _ = roc_curve(y_val, y_val_pred_pos)\n",
    "\n",
    "\n",
    "print('Model params:')\n",
    "print(clf_XGB_smote.get_params())\n",
    "print(f\"Train AUC Score {auc_train}\")\n",
    "print(f\"Test AUC Score {auc_test}\")"
   ]
  },
  {
   "cell_type": "code",
   "execution_count": 55,
   "metadata": {
    "execution": {
     "iopub.execute_input": "2021-09-16T13:06:44.406562Z",
     "iopub.status.busy": "2021-09-16T13:06:44.405555Z",
     "iopub.status.idle": "2021-09-16T13:06:44.490850Z",
     "shell.execute_reply": "2021-09-16T13:06:44.492031Z",
     "shell.execute_reply.started": "2021-09-16T12:57:51.553023Z"
    },
    "papermill": {
     "duration": 0.189592,
     "end_time": "2021-09-16T13:06:44.492246",
     "exception": false,
     "start_time": "2021-09-16T13:06:44.302654",
     "status": "completed"
    },
    "tags": []
   },
   "outputs": [],
   "source": [
    "df_report = get_scores(df_report, clf_XGB_smote, X_val,\n",
    "                       y_val, 'XGBClassifier KNN(SMOTE)')\n"
   ]
  },
  {
   "cell_type": "code",
   "execution_count": 56,
   "metadata": {
    "execution": {
     "iopub.execute_input": "2021-09-16T13:06:44.704592Z",
     "iopub.status.busy": "2021-09-16T13:06:44.703746Z",
     "iopub.status.idle": "2021-09-16T13:06:44.707506Z",
     "shell.execute_reply": "2021-09-16T13:06:44.708019Z",
     "shell.execute_reply.started": "2021-09-16T12:57:51.639955Z"
    },
    "papermill": {
     "duration": 0.115037,
     "end_time": "2021-09-16T13:06:44.708202",
     "exception": false,
     "start_time": "2021-09-16T13:06:44.593165",
     "status": "completed"
    },
    "tags": []
   },
   "outputs": [
    {
     "data": {
      "text/html": [
       "<div>\n",
       "<style scoped>\n",
       "    .dataframe tbody tr th:only-of-type {\n",
       "        vertical-align: middle;\n",
       "    }\n",
       "\n",
       "    .dataframe tbody tr th {\n",
       "        vertical-align: top;\n",
       "    }\n",
       "\n",
       "    .dataframe thead th {\n",
       "        text-align: right;\n",
       "    }\n",
       "</style>\n",
       "<table border=\"1\" class=\"dataframe\">\n",
       "  <thead>\n",
       "    <tr style=\"text-align: right;\">\n",
       "      <th></th>\n",
       "      <th>ROC-AUC</th>\n",
       "      <th>F1</th>\n",
       "      <th>precision_0</th>\n",
       "      <th>precision_1</th>\n",
       "      <th>recall_0</th>\n",
       "      <th>recall_1</th>\n",
       "    </tr>\n",
       "  </thead>\n",
       "  <tbody>\n",
       "    <tr>\n",
       "      <th>XGBClassifier KNN</th>\n",
       "      <td>0.762595</td>\n",
       "      <td>0.490895</td>\n",
       "      <td>0.812262</td>\n",
       "      <td>0.609037</td>\n",
       "      <td>0.906132</td>\n",
       "      <td>0.411141</td>\n",
       "    </tr>\n",
       "    <tr>\n",
       "      <th>XGBClassifier KNN(SMOTE)</th>\n",
       "      <td>0.916252</td>\n",
       "      <td>0.836668</td>\n",
       "      <td>0.816033</td>\n",
       "      <td>0.877193</td>\n",
       "      <td>0.888078</td>\n",
       "      <td>0.799722</td>\n",
       "    </tr>\n",
       "  </tbody>\n",
       "</table>\n",
       "</div>"
      ],
      "text/plain": [
       "                           ROC-AUC        F1  precision_0  precision_1  \\\n",
       "XGBClassifier KNN         0.762595  0.490895     0.812262     0.609037   \n",
       "XGBClassifier KNN(SMOTE)  0.916252  0.836668     0.816033     0.877193   \n",
       "\n",
       "                          recall_0  recall_1  \n",
       "XGBClassifier KNN         0.906132  0.411141  \n",
       "XGBClassifier KNN(SMOTE)  0.888078  0.799722  "
      ]
     },
     "execution_count": 56,
     "metadata": {},
     "output_type": "execute_result"
    }
   ],
   "source": [
    "df_report"
   ]
  },
  {
   "cell_type": "code",
   "execution_count": 57,
   "metadata": {
    "execution": {
     "iopub.execute_input": "2021-09-16T13:06:44.912542Z",
     "iopub.status.busy": "2021-09-16T13:06:44.911840Z",
     "iopub.status.idle": "2021-09-16T13:07:56.773904Z",
     "shell.execute_reply": "2021-09-16T13:07:56.774429Z",
     "shell.execute_reply.started": "2021-09-16T12:57:51.655924Z"
    },
    "papermill": {
     "duration": 71.968643,
     "end_time": "2021-09-16T13:07:56.774614",
     "exception": false,
     "start_time": "2021-09-16T13:06:44.805971",
     "status": "completed"
    },
    "tags": []
   },
   "outputs": [
    {
     "data": {
      "image/png": "[encoded data removed]",
      "text/plain": [
       "<Figure size 1080x576 with 1 Axes>"
      ]
     },
     "metadata": {
      "needs_background": "light"
     },
     "output_type": "display_data"
    }
   ],
   "source": [
    "plot_learning_cuve(XGBClassifier(), X_smote, y_smote)"
   ]
  },
  {
   "cell_type": "markdown",
   "metadata": {
    "papermill": {
     "duration": 0.098811,
     "end_time": "2021-09-16T13:07:56.972257",
     "exception": false,
     "start_time": "2021-09-16T13:07:56.873446",
     "status": "completed"
    },
    "tags": []
   },
   "source": [
    "### Comparing with CatBoostClassifier"
   ]
  },
  {
   "cell_type": "code",
   "execution_count": 58,
   "metadata": {
    "execution": {
     "iopub.execute_input": "2021-09-16T13:07:57.189991Z",
     "iopub.status.busy": "2021-09-16T13:07:57.188956Z",
     "iopub.status.idle": "2021-09-16T13:08:01.258591Z",
     "shell.execute_reply": "2021-09-16T13:08:01.259478Z",
     "shell.execute_reply.started": "2021-09-16T12:59:00.667778Z"
    },
    "papermill": {
     "duration": 4.1822,
     "end_time": "2021-09-16T13:08:01.259715",
     "exception": false,
     "start_time": "2021-09-16T13:07:57.077515",
     "status": "completed"
    },
    "tags": []
   },
   "outputs": [
    {
     "name": "stdout",
     "output_type": "stream",
     "text": [
      "Model is fitted:True\n",
      "Model params:\n",
      "{'iterations': 200, 'learning_rate': 0.1, 'depth': 8, 'loss_function': 'Logloss', 'custom_loss': ['AUC', 'Accuracy']}\n",
      "Train AUC Score 0.9485642542789946\n",
      "Test AUC Score 0.9157669478763759\n"
     ]
    }
   ],
   "source": [
    "from catboost import CatBoostRegressor, CatBoostClassifier, Pool, MetricVisualizer\n",
    "\n",
    "X_train, X_val, y_train, y_val = train_test_split(X_smote, y_smote, test_size = 0.2 ,random_state = 42)\n",
    "\n",
    "CB_CLASS = CatBoostClassifier(iterations=200,\n",
    "                           learning_rate=0.1,\n",
    "                           depth=8,loss_function='Logloss',\n",
    "                             custom_loss=['AUC', 'Accuracy'],\n",
    "                             )\n",
    "\n",
    "CB_CLASS.fit(X_train, y_train,\n",
    "            eval_set=(X_val, y_val),\n",
    "            verbose=False)\n",
    "\n",
    "y_train_pred = CB_CLASS.predict_proba(X_train)\n",
    "y_train_pred_pos = y_train_pred[:,1]\n",
    "\n",
    "y_val_pred = CB_CLASS.predict_proba(X_val)\n",
    "y_val_pred_pos = y_val_pred[:,1]\n",
    "\n",
    "auc_train = roc_auc_score(y_train, y_train_pred_pos)\n",
    "auc_test = roc_auc_score(y_val, y_val_pred_pos)\n",
    "\n",
    "print('Model is fitted:' + str(CB_CLASS.is_fitted()))\n",
    "print('Model params:')\n",
    "print(CB_CLASS.get_params())\n",
    "print(f\"Train AUC Score {auc_train}\")\n",
    "print(f\"Test AUC Score {auc_test}\")"
   ]
  },
  {
   "cell_type": "code",
   "execution_count": 59,
   "metadata": {
    "execution": {
     "iopub.execute_input": "2021-09-16T13:08:01.469272Z",
     "iopub.status.busy": "2021-09-16T13:08:01.468588Z",
     "iopub.status.idle": "2021-09-16T13:08:01.539809Z",
     "shell.execute_reply": "2021-09-16T13:08:01.540320Z",
     "shell.execute_reply.started": "2021-09-16T12:59:04.517175Z"
    },
    "papermill": {
     "duration": 0.175935,
     "end_time": "2021-09-16T13:08:01.540512",
     "exception": false,
     "start_time": "2021-09-16T13:08:01.364577",
     "status": "completed"
    },
    "tags": []
   },
   "outputs": [
    {
     "data": {
      "text/html": [
       "<div>\n",
       "<style scoped>\n",
       "    .dataframe tbody tr th:only-of-type {\n",
       "        vertical-align: middle;\n",
       "    }\n",
       "\n",
       "    .dataframe tbody tr th {\n",
       "        vertical-align: top;\n",
       "    }\n",
       "\n",
       "    .dataframe thead th {\n",
       "        text-align: right;\n",
       "    }\n",
       "</style>\n",
       "<table border=\"1\" class=\"dataframe\">\n",
       "  <thead>\n",
       "    <tr style=\"text-align: right;\">\n",
       "      <th></th>\n",
       "      <th>ROC-AUC</th>\n",
       "      <th>F1</th>\n",
       "      <th>precision_0</th>\n",
       "      <th>precision_1</th>\n",
       "      <th>recall_0</th>\n",
       "      <th>recall_1</th>\n",
       "    </tr>\n",
       "  </thead>\n",
       "  <tbody>\n",
       "    <tr>\n",
       "      <th>XGBClassifier KNN</th>\n",
       "      <td>0.762595</td>\n",
       "      <td>0.490895</td>\n",
       "      <td>0.812262</td>\n",
       "      <td>0.609037</td>\n",
       "      <td>0.906132</td>\n",
       "      <td>0.411141</td>\n",
       "    </tr>\n",
       "    <tr>\n",
       "      <th>XGBClassifier KNN(SMOTE)</th>\n",
       "      <td>0.916252</td>\n",
       "      <td>0.836668</td>\n",
       "      <td>0.816033</td>\n",
       "      <td>0.877193</td>\n",
       "      <td>0.888078</td>\n",
       "      <td>0.799722</td>\n",
       "    </tr>\n",
       "    <tr>\n",
       "      <th>CB_CLASS KNN(SMOTE)</th>\n",
       "      <td>0.915767</td>\n",
       "      <td>0.835104</td>\n",
       "      <td>0.811731</td>\n",
       "      <td>0.882649</td>\n",
       "      <td>0.894682</td>\n",
       "      <td>0.792420</td>\n",
       "    </tr>\n",
       "  </tbody>\n",
       "</table>\n",
       "</div>"
      ],
      "text/plain": [
       "                           ROC-AUC        F1  precision_0  precision_1  \\\n",
       "XGBClassifier KNN         0.762595  0.490895     0.812262     0.609037   \n",
       "XGBClassifier KNN(SMOTE)  0.916252  0.836668     0.816033     0.877193   \n",
       "CB_CLASS KNN(SMOTE)       0.915767  0.835104     0.811731     0.882649   \n",
       "\n",
       "                          recall_0  recall_1  \n",
       "XGBClassifier KNN         0.906132  0.411141  \n",
       "XGBClassifier KNN(SMOTE)  0.888078  0.799722  \n",
       "CB_CLASS KNN(SMOTE)       0.894682  0.792420  "
      ]
     },
     "execution_count": 59,
     "metadata": {},
     "output_type": "execute_result"
    }
   ],
   "source": [
    "df_report = get_scores(df_report, CB_CLASS, X_val,\n",
    "                       y_val, 'CB_CLASS KNN(SMOTE)')\n",
    "\n",
    "df_report"
   ]
  },
  {
   "cell_type": "code",
   "execution_count": 60,
   "metadata": {
    "execution": {
     "iopub.execute_input": "2021-09-16T13:08:01.744569Z",
     "iopub.status.busy": "2021-09-16T13:08:01.743910Z",
     "iopub.status.idle": "2021-09-16T13:08:06.162069Z",
     "shell.execute_reply": "2021-09-16T13:08:06.162687Z",
     "shell.execute_reply.started": "2021-09-16T12:59:04.588854Z"
    },
    "papermill": {
     "duration": 4.522195,
     "end_time": "2021-09-16T13:08:06.162911",
     "exception": false,
     "start_time": "2021-09-16T13:08:01.640716",
     "status": "completed"
    },
    "tags": []
   },
   "outputs": [
    {
     "name": "stdout",
     "output_type": "stream",
     "text": [
      "[13:08:01] WARNING: ../src/learner.cc:1095: Starting in XGBoost 1.3.0, the default evaluation metric used with the objective 'binary:logistic' was changed from 'error' to 'logloss'. Explicitly set eval_metric if you'd like to restore the old behavior.\n",
      "[13:08:02] WARNING: ../src/learner.cc:1095: Starting in XGBoost 1.3.0, the default evaluation metric used with the objective 'binary:logistic' was changed from 'error' to 'logloss'. Explicitly set eval_metric if you'd like to restore the old behavior.\n",
      "[13:08:03] WARNING: ../src/learner.cc:1095: Starting in XGBoost 1.3.0, the default evaluation metric used with the objective 'binary:logistic' was changed from 'error' to 'logloss'. Explicitly set eval_metric if you'd like to restore the old behavior.\n",
      "[13:08:04] WARNING: ../src/learner.cc:1095: Starting in XGBoost 1.3.0, the default evaluation metric used with the objective 'binary:logistic' was changed from 'error' to 'logloss'. Explicitly set eval_metric if you'd like to restore the old behavior.\n",
      "[13:08:05] WARNING: ../src/learner.cc:1095: Starting in XGBoost 1.3.0, the default evaluation metric used with the objective 'binary:logistic' was changed from 'error' to 'logloss'. Explicitly set eval_metric if you'd like to restore the old behavior.\n",
      "Accuracy:84.23 %\n",
      "Standard Deviation:0.28 %\n"
     ]
    }
   ],
   "source": [
    "from sklearn.model_selection import cross_val_score\n",
    "accuracies = cross_val_score(estimator = clf_XGB_smote, X = X_train, y = y_train, verbose=False, cv = 5)\n",
    "print(\"Accuracy:{:.2f} %\".format(accuracies.mean()*100))\n",
    "print(\"Standard Deviation:{:.2f} %\".format(accuracies.std()*100))"
   ]
  },
  {
   "cell_type": "code",
   "execution_count": 61,
   "metadata": {
    "execution": {
     "iopub.execute_input": "2021-09-16T13:08:06.379729Z",
     "iopub.status.busy": "2021-09-16T13:08:06.378921Z",
     "iopub.status.idle": "2021-09-16T13:08:06.383019Z",
     "shell.execute_reply": "2021-09-16T13:08:06.382120Z",
     "shell.execute_reply.started": "2021-09-16T12:59:08.877059Z"
    },
    "papermill": {
     "duration": 0.11633,
     "end_time": "2021-09-16T13:08:06.383212",
     "exception": false,
     "start_time": "2021-09-16T13:08:06.266882",
     "status": "completed"
    },
    "tags": []
   },
   "outputs": [
    {
     "name": "stdout",
     "output_type": "stream",
     "text": [
      "Accuracy:84.23 %\n",
      "Standard Deviation:0.28 %\n"
     ]
    }
   ],
   "source": [
    "print(\"Accuracy:{:.2f} %\".format(accuracies.mean()*100))\n",
    "print(\"Standard Deviation:{:.2f} %\".format(accuracies.std()*100))"
   ]
  },
  {
   "cell_type": "code",
   "execution_count": 62,
   "metadata": {
    "execution": {
     "iopub.execute_input": "2021-09-16T13:08:06.605680Z",
     "iopub.status.busy": "2021-09-16T13:08:06.604667Z",
     "iopub.status.idle": "2021-09-16T13:08:06.618124Z",
     "shell.execute_reply": "2021-09-16T13:08:06.617568Z",
     "shell.execute_reply.started": "2021-09-16T12:59:08.887058Z"
    },
    "papermill": {
     "duration": 0.12433,
     "end_time": "2021-09-16T13:08:06.618263",
     "exception": false,
     "start_time": "2021-09-16T13:08:06.493933",
     "status": "completed"
    },
    "tags": []
   },
   "outputs": [
    {
     "data": {
      "text/html": [
       "<div>\n",
       "<style scoped>\n",
       "    .dataframe tbody tr th:only-of-type {\n",
       "        vertical-align: middle;\n",
       "    }\n",
       "\n",
       "    .dataframe tbody tr th {\n",
       "        vertical-align: top;\n",
       "    }\n",
       "\n",
       "    .dataframe thead th {\n",
       "        text-align: right;\n",
       "    }\n",
       "</style>\n",
       "<table border=\"1\" class=\"dataframe\">\n",
       "  <thead>\n",
       "    <tr style=\"text-align: right;\">\n",
       "      <th></th>\n",
       "      <th>ROC-AUC</th>\n",
       "      <th>F1</th>\n",
       "      <th>precision_0</th>\n",
       "      <th>precision_1</th>\n",
       "      <th>recall_0</th>\n",
       "      <th>recall_1</th>\n",
       "    </tr>\n",
       "  </thead>\n",
       "  <tbody>\n",
       "    <tr>\n",
       "      <th>XGBClassifier KNN</th>\n",
       "      <td>0.762595</td>\n",
       "      <td>0.490895</td>\n",
       "      <td>0.812262</td>\n",
       "      <td>0.609037</td>\n",
       "      <td>0.906132</td>\n",
       "      <td>0.411141</td>\n",
       "    </tr>\n",
       "    <tr>\n",
       "      <th>XGBClassifier KNN(SMOTE)</th>\n",
       "      <td>0.916252</td>\n",
       "      <td>0.836668</td>\n",
       "      <td>0.816033</td>\n",
       "      <td>0.877193</td>\n",
       "      <td>0.888078</td>\n",
       "      <td>0.799722</td>\n",
       "    </tr>\n",
       "    <tr>\n",
       "      <th>CB_CLASS KNN(SMOTE)</th>\n",
       "      <td>0.915767</td>\n",
       "      <td>0.835104</td>\n",
       "      <td>0.811731</td>\n",
       "      <td>0.882649</td>\n",
       "      <td>0.894682</td>\n",
       "      <td>0.792420</td>\n",
       "    </tr>\n",
       "  </tbody>\n",
       "</table>\n",
       "</div>"
      ],
      "text/plain": [
       "                           ROC-AUC        F1  precision_0  precision_1  \\\n",
       "XGBClassifier KNN         0.762595  0.490895     0.812262     0.609037   \n",
       "XGBClassifier KNN(SMOTE)  0.916252  0.836668     0.816033     0.877193   \n",
       "CB_CLASS KNN(SMOTE)       0.915767  0.835104     0.811731     0.882649   \n",
       "\n",
       "                          recall_0  recall_1  \n",
       "XGBClassifier KNN         0.906132  0.411141  \n",
       "XGBClassifier KNN(SMOTE)  0.888078  0.799722  \n",
       "CB_CLASS KNN(SMOTE)       0.894682  0.792420  "
      ]
     },
     "execution_count": 62,
     "metadata": {},
     "output_type": "execute_result"
    }
   ],
   "source": [
    "df_report"
   ]
  },
  {
   "cell_type": "markdown",
   "metadata": {
    "papermill": {
     "duration": 0.102609,
     "end_time": "2021-09-16T13:08:06.834502",
     "exception": false,
     "start_time": "2021-09-16T13:08:06.731893",
     "status": "completed"
    },
    "tags": []
   },
   "source": [
    "# Prediction"
   ]
  },
  {
   "cell_type": "code",
   "execution_count": 63,
   "metadata": {
    "execution": {
     "iopub.execute_input": "2021-09-16T13:08:07.047315Z",
     "iopub.status.busy": "2021-09-16T13:08:07.045823Z",
     "iopub.status.idle": "2021-09-16T13:08:07.048060Z",
     "shell.execute_reply": "2021-09-16T13:08:07.048551Z",
     "shell.execute_reply.started": "2021-09-16T12:59:08.908593Z"
    },
    "papermill": {
     "duration": 0.11174,
     "end_time": "2021-09-16T13:08:07.048727",
     "exception": false,
     "start_time": "2021-09-16T13:08:06.936987",
     "status": "completed"
    },
    "tags": []
   },
   "outputs": [],
   "source": [
    "features =[\"city\", \"city_development_index\", \"gender\", \"relevent_experience\", \"enrolled_university\", \"education_level\", \"major_discipline\", \"experience\", \"company_size\", \"company_type\", \"last_new_job\", \"training_hours\", \"age\"]\n",
    "target = 'target'"
   ]
  },
  {
   "cell_type": "code",
   "execution_count": 64,
   "metadata": {
    "execution": {
     "iopub.execute_input": "2021-09-16T13:08:07.262144Z",
     "iopub.status.busy": "2021-09-16T13:08:07.261177Z",
     "iopub.status.idle": "2021-09-16T13:08:07.278058Z",
     "shell.execute_reply": "2021-09-16T13:08:07.278970Z",
     "shell.execute_reply.started": "2021-09-16T12:59:08.918885Z"
    },
    "papermill": {
     "duration": 0.125995,
     "end_time": "2021-09-16T13:08:07.279206",
     "exception": false,
     "start_time": "2021-09-16T13:08:07.153211",
     "status": "completed"
    },
    "tags": []
   },
   "outputs": [
    {
     "data": {
      "text/plain": [
       "array([0., 0., 0., ..., 1., 1., 0.])"
      ]
     },
     "execution_count": 64,
     "metadata": {},
     "output_type": "execute_result"
    }
   ],
   "source": [
    "#Make predictions using XGB\n",
    "y_predict_XGB = clf_XGB_smote.predict(X_val)\n",
    "\n",
    "y_predict_XGB"
   ]
  },
  {
   "cell_type": "code",
   "execution_count": 65,
   "metadata": {
    "execution": {
     "iopub.execute_input": "2021-09-16T13:08:07.499256Z",
     "iopub.status.busy": "2021-09-16T13:08:07.498515Z",
     "iopub.status.idle": "2021-09-16T13:08:07.509075Z",
     "shell.execute_reply": "2021-09-16T13:08:07.509740Z",
     "shell.execute_reply.started": "2021-09-16T12:59:08.949587Z"
    },
    "papermill": {
     "duration": 0.123251,
     "end_time": "2021-09-16T13:08:07.509953",
     "exception": false,
     "start_time": "2021-09-16T13:08:07.386702",
     "status": "completed"
    },
    "tags": []
   },
   "outputs": [
    {
     "data": {
      "text/plain": [
       "array([0., 0., 0., ..., 1., 1., 0.])"
      ]
     },
     "execution_count": 65,
     "metadata": {},
     "output_type": "execute_result"
    }
   ],
   "source": [
    "#Make predictions using CB\n",
    "y_predict_CB = CB_CLASS.predict(X_val)\n",
    "\n",
    "y_predict_CB"
   ]
  },
  {
   "cell_type": "markdown",
   "metadata": {
    "papermill": {
     "duration": 0.10585,
     "end_time": "2021-09-16T13:08:07.720533",
     "exception": false,
     "start_time": "2021-09-16T13:08:07.614683",
     "status": "completed"
    },
    "tags": []
   },
   "source": [
    "# Measure AUC\n",
    "\n",
    "\n",
    "The AUC is an estimate of the probability that a classifier will rank a randomly chosen positive instance higher than a randomly chosen negative instance. Reference : https://www.kdnuggets.com/2010/09/pub-is-auc-the-best-measure.html#:~:text=www.riceanalytics.com-,The%20area%20under%20the%20curve%20(AUC)%20that%20relates%20the%20hit,a%20randomly%20chosen%20negative%20instance."
   ]
  },
  {
   "cell_type": "code",
   "execution_count": 66,
   "metadata": {
    "execution": {
     "iopub.execute_input": "2021-09-16T13:08:07.934864Z",
     "iopub.status.busy": "2021-09-16T13:08:07.933799Z",
     "iopub.status.idle": "2021-09-16T13:08:07.942847Z",
     "shell.execute_reply": "2021-09-16T13:08:07.943655Z",
     "shell.execute_reply.started": "2021-09-16T12:59:08.972467Z"
    },
    "papermill": {
     "duration": 0.118161,
     "end_time": "2021-09-16T13:08:07.943889",
     "exception": false,
     "start_time": "2021-09-16T13:08:07.825728",
     "status": "completed"
    },
    "tags": []
   },
   "outputs": [
    {
     "data": {
      "text/plain": [
       "0.8438998473819749"
      ]
     },
     "execution_count": 66,
     "metadata": {},
     "output_type": "execute_result"
    }
   ],
   "source": [
    "from sklearn import metrics\n",
    "fpr, tpr, thresholds = metrics.roc_curve(y_val, y_predict_XGB)\n",
    "metrics.auc(fpr, tpr)"
   ]
  },
  {
   "cell_type": "code",
   "execution_count": 67,
   "metadata": {
    "execution": {
     "iopub.execute_input": "2021-09-16T13:08:08.164277Z",
     "iopub.status.busy": "2021-09-16T13:08:08.163184Z",
     "iopub.status.idle": "2021-09-16T13:08:08.172305Z",
     "shell.execute_reply": "2021-09-16T13:08:08.171710Z",
     "shell.execute_reply.started": "2021-09-16T12:59:08.982411Z"
    },
    "papermill": {
     "duration": 0.122664,
     "end_time": "2021-09-16T13:08:08.172464",
     "exception": false,
     "start_time": "2021-09-16T13:08:08.049800",
     "status": "completed"
    },
    "tags": []
   },
   "outputs": [
    {
     "data": {
      "text/plain": [
       "0.8435509940959014"
      ]
     },
     "execution_count": 67,
     "metadata": {},
     "output_type": "execute_result"
    }
   ],
   "source": [
    "from sklearn import metrics\n",
    "fpr, tpr, thresholds = metrics.roc_curve(y_val, y_predict_CB)\n",
    "metrics.auc(fpr, tpr)"
   ]
  },
  {
   "cell_type": "markdown",
   "metadata": {
    "papermill": {
     "duration": 0.106524,
     "end_time": "2021-09-16T13:08:08.384878",
     "exception": false,
     "start_time": "2021-09-16T13:08:08.278354",
     "status": "completed"
    },
    "tags": []
   },
   "source": [
    "to be continued :)"
   ]
  }
 ],
 "metadata": {
  "kernelspec": {
   "display_name": "Python 3",
   "language": "python",
   "name": "python3"
  },
  "language_info": {
   "codemirror_mode": {
    "name": "ipython",
    "version": 3
   },
   "file_extension": ".py",
   "mimetype": "text/x-python",
   "name": "python",
   "nbconvert_exporter": "python",
   "pygments_lexer": "ipython3",
   "version": "3.8.5"
  },
  "papermill": {
   "default_parameters": {},
   "duration": 172.955331,
   "end_time": "2021-09-16T13:08:09.408309",
   "environment_variables": {},
   "exception": null,
   "input_path": "__notebook__.ipynb",
   "output_path": "__notebook__.ipynb",
   "parameters": {},
   "start_time": "2021-09-16T13:05:16.452978",
   "version": "2.3.3"
  }
 },
 "nbformat": 4,
 "nbformat_minor": 5
}
